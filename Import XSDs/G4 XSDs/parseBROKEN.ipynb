{
 "cells": [
  {
   "cell_type": "markdown",
   "metadata": {},
   "source": [
    "1. Import libs and read excel (reading excel is slow)"
   ]
  },
  {
   "cell_type": "code",
   "execution_count": 1,
   "metadata": {},
   "outputs": [
    {
     "name": "stderr",
     "output_type": "stream",
     "text": [
      "C:\\Users\\ciar\\AppData\\Local\\Temp\\ipykernel_16260\\2590737069.py:3: DeprecationWarning: \n",
      "Pyarrow will become a required dependency of pandas in the next major release of pandas (pandas 3.0),\n",
      "(to allow more performant data types, such as the Arrow string type, and better interoperability with other libraries)\n",
      "but was not found to be installed on your system.\n",
      "If this would cause problems for you,\n",
      "please provide us feedback at https://github.com/pandas-dev/pandas/issues/54466\n",
      "        \n",
      "  import pandas as pd\n"
     ]
    }
   ],
   "source": [
    "from pprint import pprint\n",
    "import pandas as pd\n",
    "import re\n",
    "data = pd.read_excel('../../Clarifications/G4 - mandatory data elements 11.10.2023 (1) - Copy.xlsx')\n"
   ]
  },
  {
   "cell_type": "markdown",
   "metadata": {},
   "source": [
    "2. Extract elements and sub-element names from clarifications excel sheet"
   ]
  },
  {
   "cell_type": "code",
   "execution_count": 59,
   "metadata": {},
   "outputs": [
    {
     "name": "stdout",
     "output_type": "stream",
     "text": [
      "Index(['DE No. (Ref ID6)', 'Data element/class name ',\n",
      "       'Data sub-element/sub-class name', 'Ref ID5', 'G4',\n",
      "       'Should the data element (from column B) be filled out on the declaration? ',\n",
      "       'If the data element (from column B) is being declared on the declaration - which data sub-elements (from column C) should then ALWAYS also be filled out? ',\n",
      "       'Initial version', 'Comments'],\n",
      "      dtype='object')\n",
      "{'Goods item number': '11 03 001 000', 'Specific circumstance indicator': '11 04 001 000', 'Previous document': '12 01 000 000', 'Reference number': '17 10 001 000', 'Type': '13 13 029 002', 'Goods item identifier': '12 01 007 000', 'Additional information': '12 02 000 000', 'Code': '12 02 008 000', 'Text': '12 02 009 000', 'Supporting document': '12 03 000 000', 'Additional reference': '12 04 000 000', 'Transport document': '12 05 000 000', 'Reference number/UCR': '12 08 001 000', 'LRN': '12 09 001 000', 'Warehouse': '12 11 000 000', 'Identifier': '19 10 015 000', 'Consignor': '13 02 000 000', 'Name': '13 13 016 000', 'Identification number': '19 06 017 000', 'Type of person': '13 13 028 000', 'Address': '16 15 018 000', 'Street': '13 13 018 023', 'Street additional line': '13 13 018 024', 'Number': '13 13 018 025', 'P.O. box': '13 13 018 026', 'Sub-division': '13 13 018 027', 'Country': '16 15 081 020', 'Postcode': '16 15 081 021', 'City': '16 15 018 022', 'Communication': '13 13 029 000', 'Consignee': '13 03 000 000', 'Declarant': '13 05 000 000', 'Representative': '13 06 000 000', 'Status': '13 06 030 000', 'Notify party': '13 13 000 000', 'Additional supply chain actor': '13 14 000 000', 'Role': '13 14 031 000', 'Estimated date and time of arrival at the port of unloading': '15 04 001 000', 'Place of loading': '16 13 000 000', 'UN/LOCODE': '16 15 036 000', 'Location': '16 14 037 000', 'Place of unloading': '16 14 000 000', 'Location of goods': '16 15 000 000', 'Type of location': '16 15 045 000', 'Qualifier of identification': '16 15 046 000', 'Authorisation number': '16 15 052 000', 'Additional identifier': '16 15 053 000', 'Customs office': '16 15 047 000', 'GNSS': '16 15 048 000', 'Latitude': '16 15 048 049', 'Longitude': '16 15 048 050', 'Economic operator': '16 15 051 000', 'Street and number': '16 15 018 019', 'Postcode address': '16 15 081 000', 'House Number': '16 15 081 025', 'Supervising customs office': '17 10 000 000', 'Total gross mass': '18 03 001 000', 'Gross mass': '18 04 001 000', 'Description of goods': '18 05 001 000', 'Packaging': '18 06 000 000', 'Type of packages': '18 06 003 000', 'Number of packages': '18 06 004 000', 'Shipping marks': '18 06 054 000', 'CUS code': '18 08 001 000', 'Commodity code': '18 09 000 000', 'Harmonized System sub-heading code': '18 09 056 000', 'Combined nomenclature code': '18 09 057 000', 'Arrival transport means': '19 06 000 000', 'Type of identification': '19 06 061 000', 'Transport equipment': '19 07 000 000', 'Container identification number': '19 07 063 000', 'Container packed status': '19 07 065 000', 'Seal': '19 10 000 000', 'Number of seals': '19 10 068 000', 'Receptacle identification number': '19 11 001 000'}\n"
     ]
    }
   ],
   "source": [
    "print(data.keys())\n",
    "clarification_elements = {}\n",
    "\n",
    "\n",
    "'''Search by name:'''\n",
    "for i in range(data.shape[0]):\n",
    "    element = data.at[i, 'Data element/class name ']\n",
    "    if element != element:\n",
    "        element = data.at[i, 'Data sub-element/sub-class name']\n",
    "    clarification_elements[element] = element = data.at[i, 'DE No. (Ref ID6)']\n",
    "\n",
    "    \n",
    "print(clarification_elements)\n"
   ]
  },
  {
   "cell_type": "markdown",
   "metadata": {},
   "source": [
    "3. Extract EUCDM name annotations from XSD file\n",
    "(NOTE: this assumes all elements are correctly annotated, which for G4 they are because I manually edited them)"
   ]
  },
  {
   "cell_type": "code",
   "execution_count": 94,
   "metadata": {},
   "outputs": [
    {
     "name": "stdout",
     "output_type": "stream",
     "text": [
      "[('LRN', 'EUCDM 6.1', '12 09 001 000'), ('Specific circumstance indicator', 'EUCDM 6.1', '11 04 001 000'), ('Representative', 'EUCDM 6.1', '13 06 000 000'), ('Name', 'EUCDM 6.1', '13 06 016 000'), ('Identification number', 'EUCDM 6.1', '13 06 017 000'), ('Address', 'EUCDM 6.1', '13 03 018 000'), ('City', 'EUCDM 6.1', '13 03 018 022'), ('Country', 'EUCDM 6.1', '13 03 018 020'), ('Street additional line', 'EUCDM 6.1', '13 06 018 024'), ('Postcode', 'EUCDM 6.1', '13 06 018 021'), ('Street', 'EUCDM 6.1', '13 06 018 023'), ('Number', 'EUCDM 6.1', '13 06 018 025'), ('P.O. box', 'EUCDM 6.1', '13 06 018 026'), ('Sub-division', 'EUCDM 6.1', '13 06 018 027'), ('Communication', 'EUCDM 6.1', '13 06 029 000'), ('Identifier', 'EUCDM 6.1', '13 06 029 015'), ('Type', 'EUCDM 6.1', '13 06 029 002'), ('Status', 'EUCDM 6.1', '13 06 030 000'), ('Declarant', 'EUCDM 6.1', '13 05 000 000'), ('Name', 'EUCDM 6.1', '13 05 016 000'), ('Identification number', 'EUCDM 6.1', '13 05 017 000'), ('Address', 'EUCDM 6.1', '13 03 018 000'), ('City', 'EUCDM 6.1', '13 05 018 022'), ('Country', 'EUCDM 6.1', '13 05 018 020'), ('Street additional line', 'EUCDM 6.1', '13 05 018 024'), ('Postcode', 'EUCDM 6.1', '13 05 018 021'), ('Street', 'EUCDM 6.1', '13 05 018 023'), ('Number', 'EUCDM 6.1', '13 05 018 025'), ('P.O. box', 'EUCDM 6.1', '13 05 018 026'), ('Sub-division', 'EUCDM 6.1', '13 05 018 027'), ('Communication', 'EUCDM 6.1', '13 05 029 000'), ('Identifier', 'EUCDM 6.1', '13 05 029 015'), ('Type', 'EUCDM 6.1', '13 05 029 002'), ('Total gross mass', 'EUCDM 6.1', '18 03 001 000'), ('Receptacle identification number', 'EUCDM 6.1', '19 11 001 000'), ('Estimated date and time of arrival at the port of unloading', 'EUCDM 6.1', '15 04 001 000'), ('Additional Information', 'EUCDM 6.1', '12 02 000 000'), ('Code', 'EUCDM 6.1', '12 02 008 000'), ('Text', 'EUCDM 6.1', '12 02 009 000'), ('Additional reference', 'EUCDM 6.1', '12 04 000 000'), ('Reference Number', 'EUCDM 6.1', '12 04 001 000'), ('Type', 'EUCDM 6.1', '12 04 002 000'), ('Additional supply chain actor', 'EUCDM 6.1', '13 14 000 000'), ('Identification Number', 'EUCDM 6.1', '13 14 017 000'), ('Role', 'EUCDM 6.1', '13 14 031 000'), ('Arrival transport means', 'EUCDM 6.1', '19 06 000 000'), ('Identification number', 'EUCDM 6.1', '19 06 017 000'), ('Type of identification', 'EUCDM 6.1', '19 06 061 000'), ('Consignee', 'EUCDM 6.1', '13 03 000 000'), ('Name', 'EUCDM 6.1', '13 03 016 000'), ('Identification number', 'EUCDM 6.1', '13 03 017 000'), ('Address', 'EUCDM 6.1', '13 03 018 000'), ('City', 'EUCDM 6.1', '13 03 018 022'), ('Country', 'EUCDM 6.1', '13 03 018 020'), ('Street additional line', 'EUCDM 6.1', '13 03 018 024'), ('Postcode', 'EUCDM 6.1', '13 03 018 021'), ('Street', 'EUCDM 6.1', '13 03 018 023'), ('Number', 'EUCDM 6.1', '13 03 018 025'), ('P.O. box', 'EUCDM 6.1', '13 03 018 026'), ('Sub-division', 'EUCDM 6.1', '13 03 018 027'), ('Identifier', 'EUCDM 6.1', '13 03 029 015'), ('Type', 'EUCDM 6.1', '13 03 029 002'), ('Type of person', 'EUCDM 6.1', '13 03 028 000'), ('Goods item number', 'EUCDM 6.1', '11 03 000 000'), ('Goods item number', 'EUCDM 6.1', '11 03 001 000'), ('Packaging', 'EUCDM 6.1', '18 06 000 000'), ('Shipping marks', 'EUCDM 6.1', '18 06 054 000'), ('Number of Packages', 'EUCDM 6.1', '18 06 004 000'), ('Type of Packages', 'EUCDM 6.1', '18 06 003 000'), ('Additional Information', 'EUCDM 6.1', '12 02 000 000'), ('Code', 'EUCDM 6.1', '12 02 008 000'), ('Text', 'EUCDM 6.1', '12 02 009 000'), ('Additional supply chain actor', 'EUCDM 6.1', '13 14 000 000'), ('Identification Number', 'EUCDM 6.1', '13 14 017 000'), ('Role', 'EUCDM 6.1', '13 14 031 000'), ('Commodity Code', 'EUCDM 6.1', '18 09 000 000'), ('Description of Goods', 'EUCDM 6.1', '18 05 000 000'), ('Description of Goods', 'EUCDM 6.1', '18 05 001 000'), ('CUS Code', 'EUCDM 6.1', '18 08 000 000'), ('CUS Code', 'EUCDM 6.1', '18 08 001 000'), ('Harmonized System Subheading Code', 'EUCDM 6.1', '18 09 056 000'), ('Combined nomenclature code', 'EUCDM 6.1', '18 09 057 000'), ('CUS Code', 'EUCDM 6.1', '18 08 001 000'), ('Combined nomenclature code', 'EUCDM 6.1', '18 09 057 000'), ('Gross Mass', 'EUCDM 6.1', '18 04 000 000'), ('Gross mass', 'EUCDM 6.1', '18 04 001 000'), ('Previous document', 'EUCDM 6.1', '12 01 000 000'), ('Goods item identifier', 'EUCDM 6.1', '12 01 007 000'), ('Reference Number', 'EUCDM 6.1', '12 01 001 000'), ('Type', 'EUCDM 6.1', '12 01 002 000'), ('Supporting Document', 'EUCDM 6.1', '12 03 000 000'), ('Reference Number', 'EUCDM 6.1', '12 03 001 000'), ('Type', 'EUCDM 6.1', '12 03 002 000'), ('Transport Equipment', 'EUCDM 6.1', '19 07 000 000'), ('Container packed status', 'EUCDM 6.1', '19 07 065 000'), ('Container Identification Number', 'EUCDM 6.1', '19 07 063 000'), ('Number of seals', 'EUCDM 6.1', '19 10 068 000'), ('Seal', 'EUCDM 6.1', '19 10 000 000'), ('Identifier', 'EUCDM 6.1', '19 10 015 000'), ('Consignor', 'EUCDM 6.1', '13 02 000 000'), ('Name', 'EUCDM 6.1', '13 02 016 000'), ('Identification number', 'EUCDM 6.1', '13 02 017 000'), ('Address', 'EUCDM 6.1', '13 02 018 000'), ('City', 'EUCDM 6.1', '13 02 018 022'), ('Country', 'EUCDM 6.1', '13 02 018 020'), ('Street additional line', 'EUCDM 6.1', '13 02 018 024'), ('Postcode', 'EUCDM 6.1', '13 02 018 021'), ('Street', 'EUCDM 6.1', '13 02 018 023'), ('Number', 'EUCDM 6.1', '13 02 018 025'), ('P.O. box', 'EUCDM 6.1', '13 02 018 026'), ('Sub-division', 'EUCDM 6.1', '13 02 018 027'), ('Communication', 'EUCDM 6.1', '13 02 029 000'), ('Identifier', 'EUCDM 6.1', '13 02 029 015'), ('Type', 'EUCDM 6.1', '13 02 029 002'), ('Type of person', 'EUCDM 6.1', '13 02 028 000'), ('Location of Goods', 'EUCDM 6.1', '16 15 000 000'), ('UN/LOCODE', 'EUCDM 6.1', '16 15 036 000'), ('Type of Location', 'EUCDM 6.1', '16 15 045 000'), ('Additional Identifier', 'EUCDM 6.1', '16 15 053 000'), ('Latitude', 'EUCDM 6.1', '16 15 048 049'), ('Longitude', 'EUCDM 6.1', '16 15 048 050'), ('Address', 'EUCDM 6.1', '16 15 018 000'), ('City', 'EUCDM 6.1', '16 15 018 022'), ('Country', 'EUCDM 6.1', '16 15 018 020'), ('Country', 'EUCDM 6.1', '16 15 081 020'), ('Street and number', 'EUCDM 6.1', '16 15 018 019'), ('Postcode', 'EUCDM 6.1', '16 15 018 021'), ('House Number', 'EUCDM 6.1', '16 15 081 025'), ('Qualifier of Identification', 'EUCDM 6.1', '16 15 046 000'), ('Authorisation Number', 'EUCDM 6.1', '16 15 052 000'), ('Customs office', 'EUCDM 6.1', '16 15 047 000'), ('Reference number', 'EUCDM 6.1', '16 15 047 001'), ('Economic Operator', 'EUCDM 6.1', '16 15 051 000'), ('Identification Number', 'EUCDM 6.1', '16 15 051 017'), ('Total gross mass', 'EUCDM 6.1', '18 03 001 000'), ('Additional reference', 'EUCDM 6.1', '12 04 000 000'), ('Type', 'EUCDM 6.1', '12 04 002 000'), ('Additional supply chain actor', 'EUCDM 6.1', '13 14 000 000'), ('Identification Number', 'EUCDM 6.1', '13 14 017 000'), ('Role', 'EUCDM 6.1', '13 14 031 000'), ('Consignee', 'EUCDM 6.1', '13 03 000 000'), ('Name', 'EUCDM 6.1', '13 03 016 000'), ('Identification Number', 'EUCDM 6.1', '13 03 017 000'), ('Address', 'EUCDM 6.1', '13 03 018 000'), ('City', 'EUCDM 6.1', '13 03 018 022'), ('Country', 'EUCDM 6.1', '13 03 018 020'), ('Street additional line', 'EUCDM 6.1', '13 03 018 024'), ('Postcode', 'EUCDM 6.1', '13 03 018 021'), ('Street', 'EUCDM 6.1', '13 03 018 023'), ('Number', 'EUCDM 6.1', '13 03 018 025'), ('P.O. box', 'EUCDM 6.1', '13 03 018 026'), ('Sub-division', 'EUCDM 6.1', '13 03 018 027'), ('Identifier', 'EUCDM 6.1', '13 03 029 015'), ('Type', 'EUCDM 6.1', '13 03 029 002'), ('Type of person', 'EUCDM 6.1', '13 03 028 000'), ('Goods item number', 'EUCDM 6.1', '11 03 000 000'), ('Goods item number', 'EUCDM 6.1', '11 03 001 000'), ('Packaging', 'EUCDM 6.1', '18 06 000 000'), ('Shipping marks', 'EUCDM 6.1', '18 06 054 000'), ('Number of Packages', 'EUCDM 6.1', '18 06 004 000'), ('Type of Packages', 'EUCDM 6.1', '18 06 003 000'), ('Additional Information', 'EUCDM 6.1', '12 02 000 000'), ('Code', 'EUCDM 6.1', '12 02 008 000'), ('Text', 'EUCDM 6.1', '12 02 009 000'), ('Additional reference', 'EUCDM 6.1', '12 04 000 000'), ('Reference Number', 'EUCDM 6.1', '12 04 001 000'), ('Type', 'EUCDM 6.1', '12 04 002 000'), ('Additional supply chain actor', 'EUCDM 6.1', '13 14 000 000'), ('Identification Number', 'EUCDM 6.1', '13 14 017 000'), ('Role', 'EUCDM 6.1', '13 14 031 000'), ('Commodity Code', 'EUCDM 6.1', '18 09 000 000'), ('Description of Goods', 'EUCDM 6.1', '18 05 000 000'), ('Description of Goods', 'EUCDM 6.1', '18 05 001 000'), ('CUS Code', 'EUCDM 6.1', '18 08 000 000'), ('Gross Mass', 'EUCDM 6.1', '18 04 000 000'), ('Previous document', 'EUCDM 6.1', '12 01 000 000'), ('Goods item identifier', 'EUCDM 6.1', '12 01 007 000'), ('Reference Number', 'EUCDM 6.1', '12 01 001 000'), ('Type', 'EUCDM 6.1', '12 01 002 000'), ('Supporting Document', 'EUCDM 6.1', '12 03 000 000'), ('Reference Number', 'EUCDM 6.1', '12 03 001 000'), ('Type', 'EUCDM 6.1', '12 03 002 000'), ('Transport Equipment', 'EUCDM 6.1', '19 07 000 000'), ('Container packed status', 'EUCDM 6.1', '19 07 065 000'), ('Container Identification Number', 'EUCDM 6.1', '19 07 063 000'), ('Number of seals', 'EUCDM 6.1', '19 10 068 000'), ('Seal', 'EUCDM 6.1', '19 10 000 000'), ('Identifier', 'EUCDM 6.1', '19 10 015 000'), ('Consignor', 'EUCDM 6.1', '13 02 000 000'), ('Name', 'EUCDM 6.1', '13 02 016 000'), ('Identification number', 'EUCDM 6.1', '13 02 017 000'), ('Address', 'EUCDM 6.1', '13 02 018 000'), ('City', 'EUCDM 6.1', '13 02 018 022'), ('Country', 'EUCDM 6.1', '13 02 018 020'), ('Street additional line', 'EUCDM 6.1', '13 02 018 024'), ('Postcode', 'EUCDM 6.1', '13 02 018 021'), ('Street', 'EUCDM 6.1', '13 02 018 023'), ('Number', 'EUCDM 6.1', '13 02 018 025'), ('P.O. box', 'EUCDM 6.1', '13 02 018 026'), ('Sub-division', 'EUCDM 6.1', '13 02 018 027'), ('Communication', 'EUCDM 6.1', '13 02 029 000'), ('Identifier', 'EUCDM 6.1', '13 02 029 015'), ('Type', 'EUCDM 6.1', '13 02 029 002'), ('Type of person', 'EUCDM 6.1', '13 02 028 000'), ('Notify party', 'EUCDM 6.1', '13 13 000 000'), ('Name', 'EUCDM 6.1', '13 13 016 000'), ('Identification number', 'EUCDM 6.1', '13 13 017 000'), ('Address', 'EUCDM 6.1', '13 13 018 000'), ('City', 'EUCDM 6.1', '13 13 018 022'), ('Country', 'EUCDM 6.1', '13 13 018 020'), ('Street additional line', 'EUCDM 6.1', '13 13 018 024'), ('Postcode', 'EUCDM 6.1', '13 13 018 021'), ('Street', 'EUCDM 6.1', '13 13 018 023'), ('Number', 'EUCDM 6.1', '13 13 018 025'), ('P.O. box', 'EUCDM 6.1', '13 13 018 026'), ('Sub-division', 'EUCDM 6.1', '13 13 018 027'), ('Communication', 'EUCDM 6.1', '13 13 029 000'), ('Identifier', 'EUCDM 6.1', '13 13 029 015'), ('Type', 'EUCDM 6.1', '13 13 029 002'), ('Type of person', 'EUCDM 6.1', '13 13 028 000'), ('Previous document', 'EUCDM 6.1', '12 01 000 000'), ('Goods item identifier', 'EUCDM 6.1', '12 01 007 000'), ('Reference Number', 'EUCDM 6.1', '12 01 001 000'), ('Type', 'EUCDM 6.1', '12 01 002 000'), ('Supporting Document', 'EUCDM 6.1', '12 03 000 000'), ('Reference Number', 'EUCDM 6.1', '12 03 001 000'), ('Type', 'EUCDM 6.1', '12 03 002 000'), ('Transport document', 'EUCDM 6.1', '12 05 000 000'), ('Reference number', 'EUCDM 6.1', '12 05 001 000'), ('Type', 'EUCDM 6.1', '12 05 002 000'), ('Transport Equipment', 'EUCDM 6.1', '19 07 000 000'), ('Container packed status', 'EUCDM 6.1', '19 07 065 000'), ('Container identification number', 'EUCDM 6.1', '19 07 063 000'), ('Number of seals', 'EUCDM 6.1', '19 10 068 000'), ('Seal', 'EUCDM 6.1', '19 10 000 000'), ('Identifier', 'EUCDM 6.1', '19 10 015 000'), ('Reference number/UCR', 'EUCDM 6.1', '12 08 000 000'), ('Reference number/UCR', 'EUCDM 6.1', '12 08 001 000'), ('Place of loading', 'EUCDM 6.1', '16 13 000 000'), ('Location', 'EUCDM 6.1', '16 13 037 000'), ('UN/LOCODE', 'EUCDM 6.1', '16 13 036 000'), ('Country', 'EUCDM 6.1', '16 13 020 000'), ('Notify party', 'EUCDM 6.1', '13 13 000 000'), ('Name', 'EUCDM 6.1', '13 13 016 000'), ('Identification number', 'EUCDM 6.1', '13 13 017 000'), ('Address', 'EUCDM 6.1', '13 13 018 000'), ('City', 'EUCDM 6.1', '13 13 018 022'), ('Country', 'EUCDM 6.1', '13 13 018 020'), ('Street additional line', 'EUCDM 6.1', '13 13 018 024'), ('Postcode', 'EUCDM 6.1', '13 13 018 021'), ('Street', 'EUCDM 6.1', '13 13 018 023'), ('Number', 'EUCDM 6.1', '13 13 018 025'), ('P.O. box', 'EUCDM 6.1', '13 13 018 026'), ('Sub-division', 'EUCDM 6.1', '13 13 018 027'), ('Communication', 'EUCDM 6.1', '13 13 029 000'), ('Identifier', 'EUCDM 6.1', '13 13 029 015'), ('Type', 'EUCDM 6.1', '13 13 029 002'), ('Type of person', 'EUCDM 6.1', '13 13 028 000'), ('Previous document', 'EUCDM 6.1', '12 01 000 000'), ('Goods item identifier', 'EUCDM 6.1', '12 01 007 000'), ('Reference Number', 'EUCDM 6.1', '12 01 001 000'), ('Type', 'EUCDM 6.1', '12 01 002 000'), ('Supporting Document', 'EUCDM 6.1', '12 03 000 000'), ('Reference Number', 'EUCDM 6.1', '12 03 001 000'), ('Type', 'EUCDM 6.1', '12 03 002 000'), ('Transport document', 'EUCDM 6.1', '12 05 000 000'), ('Reference number', 'EUCDM 6.1', '12 05 001 000'), ('Type', 'EUCDM 6.1', '12 05 002 000'), ('Transport Equipment', 'EUCDM 6.1', '19 07 000 000'), ('Container packed status', 'EUCDM 6.1', '19 07 065 000'), ('Container identification number', 'EUCDM 6.1', '19 07 063 000'), ('Number of seals', 'EUCDM 6.1', '19 10 068 000'), ('Seal', 'EUCDM 6.1', '19 10 000 000'), ('Identifier', 'EUCDM 6.1', '19 10 015 000'), ('Place of unloading', 'EUCDM 6.1', '16 14 000 000'), ('Location', 'EUCDM 6.1', '16 14 037 000'), ('UN/LOCODE', 'EUCDM 6.1', '16 14 036 000'), ('Country', 'EUCDM 6.1', '16 14 020 000'), ('Reference number/UCR', 'EUCDM 6.1', '12 08 000 000'), ('Reference number/UCR', 'EUCDM 6.1', '12 08 001 000'), ('Warehouse', 'EUCDM 6.1', '12 11 000 000'), ('Name', 'EUCDM 6.1', '13 03 016 000'), ('Identifier', 'EUCDM 6.1', '12 11 015 000')]\n"
     ]
    },
    {
     "ename": "TypeError",
     "evalue": "unhashable type: 'list'",
     "output_type": "error",
     "traceback": [
      "\u001b[1;31m---------------------------------------------------------------------------\u001b[0m",
      "\u001b[1;31mTypeError\u001b[0m                                 Traceback (most recent call last)",
      "Cell \u001b[1;32mIn[94], line 32\u001b[0m\n\u001b[0;32m     27\u001b[0m \u001b[38;5;28mprint\u001b[39m(annotations)\n\u001b[0;32m     28\u001b[0m \u001b[38;5;66;03m#xxx\u001b[39;00m\n\u001b[0;32m     29\u001b[0m \n\u001b[0;32m     30\u001b[0m \n\u001b[0;32m     31\u001b[0m \u001b[38;5;66;03m#schema_annotations = {element_name_annotations[i]: element_number_annotations[i] for i in range(len(element_name_annotations))} \u001b[39;00m\n\u001b[1;32m---> 32\u001b[0m schema_annotations \u001b[38;5;241m=\u001b[39m \u001b[43m{\u001b[49m\u001b[43m[\u001b[49m\u001b[43mannotations\u001b[49m\u001b[43m[\u001b[49m\u001b[43mi\u001b[49m\u001b[43m]\u001b[49m\u001b[43m[\u001b[49m\u001b[38;5;241;43m0\u001b[39;49m\u001b[43m]\u001b[49m\u001b[43m]\u001b[49m\u001b[43m:\u001b[49m\u001b[43m \u001b[49m\u001b[43m[\u001b[49m\u001b[43mannotations\u001b[49m\u001b[43m[\u001b[49m\u001b[43mi\u001b[49m\u001b[43m]\u001b[49m\u001b[43m[\u001b[49m\u001b[38;5;241;43m2\u001b[39;49m\u001b[43m]\u001b[49m\u001b[43m]\u001b[49m\u001b[43m \u001b[49m\u001b[38;5;28;43;01mfor\u001b[39;49;00m\u001b[43m \u001b[49m\u001b[43mi\u001b[49m\u001b[43m \u001b[49m\u001b[38;5;129;43;01min\u001b[39;49;00m\u001b[43m \u001b[49m\u001b[38;5;28;43mrange\u001b[39;49m\u001b[43m(\u001b[49m\u001b[38;5;28;43mlen\u001b[39;49m\u001b[43m(\u001b[49m\u001b[43mannotations\u001b[49m\u001b[43m)\u001b[49m\u001b[43m)\u001b[49m\u001b[43m}\u001b[49m \n\u001b[0;32m     34\u001b[0m \u001b[38;5;28mprint\u001b[39m(schema_annotations)\n\u001b[0;32m     35\u001b[0m \u001b[38;5;28;01mif\u001b[39;00m \u001b[38;5;124m'\u001b[39m\u001b[38;5;124m19 10 015 000\u001b[39m\u001b[38;5;124m'\u001b[39m \u001b[38;5;129;01mnot\u001b[39;00m \u001b[38;5;129;01min\u001b[39;00m schema_annotations\u001b[38;5;241m.\u001b[39mvalues():\n",
      "Cell \u001b[1;32mIn[94], line 32\u001b[0m, in \u001b[0;36m<dictcomp>\u001b[1;34m(.0)\u001b[0m\n\u001b[0;32m     27\u001b[0m \u001b[38;5;28mprint\u001b[39m(annotations)\n\u001b[0;32m     28\u001b[0m \u001b[38;5;66;03m#xxx\u001b[39;00m\n\u001b[0;32m     29\u001b[0m \n\u001b[0;32m     30\u001b[0m \n\u001b[0;32m     31\u001b[0m \u001b[38;5;66;03m#schema_annotations = {element_name_annotations[i]: element_number_annotations[i] for i in range(len(element_name_annotations))} \u001b[39;00m\n\u001b[1;32m---> 32\u001b[0m schema_annotations \u001b[38;5;241m=\u001b[39m {[annotations[i][\u001b[38;5;241m0\u001b[39m]]: [annotations[i][\u001b[38;5;241m2\u001b[39m]] \u001b[38;5;28;01mfor\u001b[39;00m i \u001b[38;5;129;01min\u001b[39;00m \u001b[38;5;28mrange\u001b[39m(\u001b[38;5;28mlen\u001b[39m(annotations))} \n\u001b[0;32m     34\u001b[0m \u001b[38;5;28mprint\u001b[39m(schema_annotations)\n\u001b[0;32m     35\u001b[0m \u001b[38;5;28;01mif\u001b[39;00m \u001b[38;5;124m'\u001b[39m\u001b[38;5;124m19 10 015 000\u001b[39m\u001b[38;5;124m'\u001b[39m \u001b[38;5;129;01mnot\u001b[39;00m \u001b[38;5;129;01min\u001b[39;00m schema_annotations\u001b[38;5;241m.\u001b[39mvalues():\n",
      "\u001b[1;31mTypeError\u001b[0m: unhashable type: 'list'"
     ]
    }
   ],
   "source": [
    "\n",
    "clarifications_filename = './G4_DMS_v0.1.xsd'\n",
    "\n",
    "def extract_elements(text, search_by):\n",
    "    # Define the regex pattern\n",
    "    if search_by == 'Name':\n",
    "        pattern = r\"<EUCDMname>(.*?)</EUCDMname>\"\n",
    "    elif search_by == 'Number':\n",
    "        pattern = r\"<code>(.*?)</code>\"\n",
    "    elif search_by == 'Both':\n",
    "        pattern = (\n",
    "                r\"<EUCDMname>(.*?)</EUCDMname>\\s*\"\n",
    "                r\"<EUCDMversion>(.*?)</EUCDMversion>\\s*\"\n",
    "                r\"<code>(.*?)</code>\"\n",
    "            )\n",
    "\n",
    "\n",
    "    # Use re.findall to extract all occurrences\n",
    "    matches = re.findall(pattern, text)\n",
    "    # Return the matches\n",
    "    return matches\n",
    "\n",
    "text = open(clarifications_filename, 'r').read()\n",
    "# element_name_annotations = extract_elements(text, 'Name')\n",
    "# element_number_annotations = extract_elements(text, 'Number')\n",
    "# print(len(element_number_annotations), len(element_name_annotations))\n",
    "annotations = extract_elements(text, 'Both')\n",
    "print(annotations)\n",
    "#xxx\n",
    "\n",
    "\n",
    "#schema_annotations = {element_name_annotations[i]: element_number_annotations[i] for i in range(len(element_name_annotations))} \n",
    "schema_annotations = {annotations[i][0]: annotations[i][2] for i in range(len(annotations))} \n",
    "\n",
    "print(schema_annotations)\n",
    "if '19 10 015 000' not in schema_annotations.values():\n",
    "    print(\"No\")\n"
   ]
  },
  {
   "cell_type": "code",
   "execution_count": 87,
   "metadata": {},
   "outputs": [
    {
     "name": "stdout",
     "output_type": "stream",
     "text": [
      "The following elements from the clarifications excel sheet are missing from the XSD: \n",
      "16 15 048 000 GNSS\n",
      "16 15 081 000 Postcode address\n",
      "17 10 000 000 Supervising customs office\n",
      "18 09 056 000 Harmonized System sub-heading code\n",
      "\n",
      "\n",
      "dict_values(['12 09 001 000', '11 04 001 000', '13 06 000 000', '13 03 016 000', '13 14 017 000', '13 13 018 000', '13 13 018 022', '16 14 020 000', '13 13 018 024', '13 13 018 021', '13 13 018 023', '13 13 018 025', '13 13 018 026', '13 13 018 027', '13 13 029 000', '12 11 015 000', '12 05 002 000', '13 06 030 000', '13 05 000 000', '18 03 001 000', '19 11 001 000', '15 04 001 000', '12 02 000 000', '12 02 008 000', '12 02 009 000', '12 04 000 000', '12 05 001 000', '13 14 000 000', '13 14 031 000', '19 06 000 000', '19 06 061 000', '13 03 000 000', '13 13 028 000', '11 03 001 000', '18 06 000 000', '18 06 054 000', '18 06 004 000', '18 06 003 000', '18 09 000 000', '18 05 001 000', '18 08 000 000', '18 09 056 000', '18 09 057 000', '18 04 001 000', '12 01 000 000', '12 01 007 000', '12 03 000 000', '19 07 000 000', '19 07 065 000', '19 07 063 000', '19 10 068 000', '19 10 000 000', '13 02 000 000', '16 15 000 000', '16 14 036 000', '16 15 045 000', '16 15 053 000', '16 15 048 049', '16 15 048 050', '16 15 018 019', '16 15 081 025', '16 15 046 000', '16 15 052 000', '16 15 047 000', '16 15 051 000', '13 13 000 000', '12 05 000 000', '12 08 001 000', '16 13 000 000', '16 14 037 000', '16 14 000 000', '12 11 000 000'])\n",
      "Yes\n",
      "17 10 001 000 Reference number\n",
      "13 13 029 002 Type\n",
      "19 10 015 000 Identifier\n",
      "13 13 016 000 Name\n",
      "19 06 017 000 Identification number\n",
      "16 15 018 000 Address\n",
      "16 15 081 020 Country\n",
      "16 15 081 021 Postcode\n",
      "16 15 018 022 City\n",
      "16 15 036 000 UN/LOCODE\n",
      "16 15 048 000 GNSS\n",
      "16 15 081 000 Postcode address\n",
      "17 10 000 000 Supervising customs office\n",
      "18 08 001 000 CUS code\n"
     ]
    }
   ],
   "source": [
    "schema_annotations =  {k.lower(): v for k, v in schema_annotations.items()}\n",
    "print(\"The following elements from the clarifications excel sheet are missing from the XSD: \")\n",
    "for key, val in clarification_elements.items():\n",
    "    if key.lower() not in schema_annotations.keys(): #or val not in schema_annotations.values():\n",
    "        print(val + \" \" + key)\n",
    "print(\"\\n\")\n",
    "print(schema_annotations.values())\n",
    "\n",
    "for key, val in schema_annotations.items():\n",
    "    if val == '12 01 000 000':\n",
    "        print(\"Yes\")\n",
    "\n",
    "\n",
    "for key, val in clarification_elements.items():\n",
    "    if val not in schema_annotations.values():\n",
    "        print(val + \" \" + key)"
   ]
  }
 ],
 "metadata": {
  "kernelspec": {
   "display_name": "Python 3",
   "language": "python",
   "name": "python3"
  },
  "language_info": {
   "codemirror_mode": {
    "name": "ipython",
    "version": 3
   },
   "file_extension": ".py",
   "mimetype": "text/x-python",
   "name": "python",
   "nbconvert_exporter": "python",
   "pygments_lexer": "ipython3",
   "version": "3.11.7"
  }
 },
 "nbformat": 4,
 "nbformat_minor": 2
}
