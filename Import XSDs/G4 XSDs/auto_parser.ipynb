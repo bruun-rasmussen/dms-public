{
 "cells": [
  {
   "cell_type": "markdown",
   "metadata": {},
   "source": [
    "1. Import libs and read excel (reading excel is slow). Remember to change the filename to the correct excel."
   ]
  },
  {
   "cell_type": "code",
   "execution_count": 1,
   "metadata": {},
   "outputs": [
    {
     "name": "stderr",
     "output_type": "stream",
     "text": [
      "C:\\Users\\ciar\\AppData\\Local\\Temp\\ipykernel_11884\\1318008601.py:2: DeprecationWarning: \n",
      "Pyarrow will become a required dependency of pandas in the next major release of pandas (pandas 3.0),\n",
      "(to allow more performant data types, such as the Arrow string type, and better interoperability with other libraries)\n",
      "but was not found to be installed on your system.\n",
      "If this would cause problems for you,\n",
      "please provide us feedback at https://github.com/pandas-dev/pandas/issues/54466\n",
      "        \n",
      "  import pandas as pd\n"
     ]
    },
    {
     "name": "stdout",
     "output_type": "stream",
     "text": [
      "Finished loading excel \"../../Clarifications/G4 - mandatory data elements 11.10.2023 (1) - Copy.xlsx\".\n"
     ]
    }
   ],
   "source": [
    "from pprint import pprint\n",
    "import pandas as pd\n",
    "import re\n",
    "\n",
    "excel_filepath = '../../Clarifications/G4 - mandatory data elements 11.10.2023 (1) - Copy.xlsx'\n",
    "data = pd.read_excel(excel_filepath)\n",
    "print(\"Finished loading excel \\\"\" + excel_filepath + \"\\\".\")\n"
   ]
  },
  {
   "cell_type": "markdown",
   "metadata": {},
   "source": [
    "2. Extract elements and sub-element names from clarifications excel sheet. Remember to change 'declaration_type' below to the correct value."
   ]
  },
  {
   "cell_type": "code",
   "execution_count": 2,
   "metadata": {},
   "outputs": [
    {
     "name": "stdout",
     "output_type": "stream",
     "text": [
      "Finished reading elements from clarifications excel sheet.\n"
     ]
    }
   ],
   "source": [
    "'''Remember to change this to your own declaration type.'''\n",
    "declaration_type = 'G4'\n",
    "\n",
    "clarification_elements = []\n",
    "clarification_elements_w_card = {}\n",
    "\n",
    "#print(data.keys())\n",
    "\n",
    "for i in range(data.shape[0]):\n",
    "    element = data.at[i, 'Data element/class name ']\n",
    "    card = data.at[i,'Should the data element (from column B) be filled out on the declaration? ']\n",
    "    if card == 'M':\n",
    "        cnt = 0\n",
    "        if 'MC' in data.at[i, declaration_type]:\n",
    "            cnt +=1\n",
    "        if 'MI' in data.at[i, declaration_type]:\n",
    "            cnt +=1\n",
    "        if 'HC' in data.at[i, declaration_type]:\n",
    "            cnt +=1\n",
    "        if 'HI' in data.at[i, declaration_type]:\n",
    "            cnt +=1\n",
    "        if cnt > 1:\n",
    "            card_1 = '0'\n",
    "        else: \n",
    "            card_1 = '1'\n",
    "    else:\n",
    "            card_1 = '0'\n",
    "    if element != element:\n",
    "        element = data.at[i, 'Data sub-element/sub-class name']\n",
    "        card = data.at[i,'If the data element (from column B) is being declared on the declaration - which data sub-elements (from column C) should then ALWAYS also be filled out? ']\n",
    "    if card == 'M':\n",
    "        card_1 = '1'\n",
    "    else:\n",
    "        card_1 = '0'\n",
    "\n",
    "    clarification_elements.append(data.at[i, 'DE No. (Ref ID6)'] + \" \" + element.lower())\n",
    "    clarification_elements_w_card[data.at[i, 'DE No. (Ref ID6)'] + \" \" + element.lower()] = card_1\n",
    "#print(clarification_elements)\n",
    "#print(clarification_elements_w_card)\n",
    "print(\"Finished reading elements from clarifications excel sheet.\")\n"
   ]
  },
  {
   "cell_type": "markdown",
   "metadata": {},
   "source": [
    "3. Extract EUCDM name annotations from XSD file\n",
    "\n",
    "(NOTE: this assumes all elements are correctly annotated, which for G4 they are because I manually edited them, ALWAYS annotate the elements right under the element header!!!!)\n",
    "\n",
    "Remember to change the XSD filename below."
   ]
  },
  {
   "cell_type": "code",
   "execution_count": 3,
   "metadata": {},
   "outputs": [
    {
     "name": "stdout",
     "output_type": "stream",
     "text": [
      "Finished extracting XSD elements.\n"
     ]
    }
   ],
   "source": [
    "'''Change this filename to the XSD you want to edit.'''\n",
    "XSD_filename = './G4_DMS_v0.1.xsd'\n",
    "\n",
    "def extract_elements(text, search_by):\n",
    "    # Define the regex pattern\n",
    "    if search_by == 'Name':\n",
    "        pattern = r\"<EUCDMname>(.*?)</EUCDMname>\"\n",
    "    elif search_by == 'Number':\n",
    "        pattern = r\"<code>(.*?)</code>\"\n",
    "    elif search_by == 'Both':\n",
    "        pattern = (\n",
    "                r\"<EUCDMname>(.*?)</EUCDMname>\\s*\"\n",
    "                r\"<EUCDMversion>(.*?)</EUCDMversion>\\s*\"\n",
    "                r\"<code>(.*?)</code>\"\n",
    "            )\n",
    "    elif search_by == 'get element name':\n",
    "        pattern = (\n",
    "                r\"<xs:element name=(.*?)\\s*\"\n",
    "                r\"<xs:annotation>\\s*\"\n",
    "                r\"<xs:documentation>\\s*\"\n",
    "                r\"<EUCDMname>(.*?)</EUCDMname>\\s*\"\n",
    "                r\"<EUCDMversion>(.*?)</EUCDMversion>\\s*\"\n",
    "                r\"<code>(.*?)</code>\"\n",
    "            )\n",
    "\n",
    "\n",
    "    # Use re.findall to extract all occurrences\n",
    "    matches = re.findall(pattern, text)\n",
    "    # Return the matches\n",
    "    return matches\n",
    "\n",
    "text = open(XSD_filename, 'r').read()\n",
    "# element_name_annotations = extract_elements(text, 'Name')\n",
    "# element_number_annotations = extract_elements(text, 'Number')\n",
    "annotations = extract_elements(text, 'Both')\n",
    "\n",
    "elements = extract_elements(text, 'get element name')\n",
    "element_names = []\n",
    "for i in range(len(elements)):\n",
    "    element_names.append(elements[i][0])\n",
    "\n",
    "schema_annotations = []\n",
    "for i in range(len(annotations)):\n",
    "    schema_annotations.append(annotations[i][2] + \" \" + annotations[i][0].lower()) \n",
    "\n",
    "#print(schema_annotations)\n",
    "\n",
    "optionality = [] # 0 = optional, 1 = mandatory\n",
    "for element in element_names:\n",
    "    if \"minOccurs=\\\"0\\\"\" in element:\n",
    "        optionality.append(0)\n",
    "    else:\n",
    "        optionality.append(1)\n",
    "\n",
    "schema_annotations_w_card = {}\n",
    "for i in range(len(element_names)):\n",
    "    schema_annotations_w_card[elements[i][3] + \" \" + elements[i][1].lower()] = optionality[i]\n",
    "#print(schema_annotations_w_card)\n",
    "print(\"Finished extracting XSD elements.\")\n",
    "\n",
    "\n",
    "\n"
   ]
  },
  {
   "cell_type": "markdown",
   "metadata": {},
   "source": [
    "4. Check if elements are missing from XSD or if elements need to be removed from XSD."
   ]
  },
  {
   "cell_type": "code",
   "execution_count": 4,
   "metadata": {},
   "outputs": [
    {
     "name": "stdout",
     "output_type": "stream",
     "text": [
      "The following elements from the clarifications excel sheet are missing from the XSD: \n",
      "11 04 000 000 specific circumstance indicator\n",
      "12 09 000 000 lrn\n",
      "15 04 000 000 estimated date and time of arrival at the port of unloading\n",
      "16 15 048 000 gnss\n",
      "16 15 081 000 postcode address\n",
      "16 15 081 021 postcode\n",
      "18 03 000 000 total gross mass\n",
      "19 11 000 000 receptacle identification number\n",
      "\n",
      "\n",
      "The following elements in the XSD are not present in the clarifications excel sheet: \n"
     ]
    }
   ],
   "source": [
    "#schema_annotations =  {k.lower(): v for k, v in schema_annotations.items()}\n",
    "print(\"The following elements from the clarifications excel sheet are missing from the XSD: \")\n",
    "for item in clarification_elements:\n",
    "    if item not in schema_annotations: #or val not in schema_annotations.values():\n",
    "        print(item)\n",
    "print(\"\\n\")\n",
    "\n",
    "print(\"The following elements in the XSD are not present in the clarifications excel sheet: \")\n",
    "for item in schema_annotations:\n",
    "    if item not in clarification_elements: #or val not in schema_annotations.values():\n",
    "        print(item)\n"
   ]
  },
  {
   "cell_type": "markdown",
   "metadata": {},
   "source": [
    "5. Check that optionality is correct: are there any elements that are optional that should be mandatory and vice versa?"
   ]
  },
  {
   "cell_type": "code",
   "execution_count": 5,
   "metadata": {},
   "outputs": [
    {
     "name": "stdout",
     "output_type": "stream",
     "text": [
      "11 03 001 000 goods item number: XSD optionality mandatory but should be optional\n",
      "12 01 001 000 reference number: XSD optionality mandatory but should be optional\n",
      "12 01 002 000 type: XSD optionality mandatory but should be optional\n",
      "12 01 007 000 goods item identifier: XSD optionality mandatory but should be optional\n",
      "12 02 008 000 code: XSD optionality mandatory but should be optional\n",
      "12 03 001 000 reference number: XSD optionality mandatory but should be optional\n",
      "12 03 002 000 type: XSD optionality mandatory but should be optional\n",
      "12 04 002 000 type: XSD optionality mandatory but should be optional\n",
      "12 05 000 000 transport document: XSD optionality mandatory but should be optional\n",
      "12 05 001 000 reference number: XSD optionality mandatory but should be optional\n",
      "12 05 002 000 type: XSD optionality mandatory but should be optional\n",
      "12 08 001 000 reference number/ucr: XSD optionality mandatory but should be optional\n",
      "12 09 001 000 lrn: XSD optionality mandatory but should be optional\n",
      "12 11 000 000 warehouse: XSD optionality optional but should be mandatory\n",
      "13 02 016 000 name: XSD optionality mandatory but should be optional\n",
      "13 02 017 000 identification number: XSD optionality mandatory but should be optional\n",
      "13 02 028 000 type of person: XSD optionality mandatory but should be optional\n",
      "13 02 018 024 street additional line: XSD optionality mandatory but should be optional\n",
      "13 02 018 020 country: XSD optionality mandatory but should be optional\n",
      "13 02 018 022 city: XSD optionality mandatory but should be optional\n",
      "13 02 029 015 identifier: XSD optionality mandatory but should be optional\n",
      "13 02 029 002 type: XSD optionality mandatory but should be optional\n",
      "13 03 028 000 type of person: XSD optionality mandatory but should be optional\n",
      "13 03 018 024 street additional line: XSD optionality mandatory but should be optional\n",
      "13 03 018 020 country: XSD optionality mandatory but should be optional\n",
      "13 03 018 022 city: XSD optionality mandatory but should be optional\n",
      "13 03 029 015 identifier: XSD optionality mandatory but should be optional\n",
      "13 03 029 002 type: XSD optionality mandatory but should be optional\n",
      "13 05 016 000 name: XSD optionality mandatory but should be optional\n",
      "13 05 017 000 identification number: XSD optionality mandatory but should be optional\n",
      "13 05 018 024 street additional line: XSD optionality mandatory but should be optional\n",
      "13 05 018 020 country: XSD optionality mandatory but should be optional\n",
      "13 05 018 022 city: XSD optionality mandatory but should be optional\n",
      "13 05 029 015 identifier: XSD optionality mandatory but should be optional\n",
      "13 05 029 002 type: XSD optionality mandatory but should be optional\n",
      "13 06 017 000 identification number: XSD optionality mandatory but should be optional\n",
      "13 06 030 000 status: XSD optionality mandatory but should be optional\n",
      "13 06 018 024 street additional line: XSD optionality mandatory but should be optional\n",
      "13 06 018 020 country: XSD optionality mandatory but should be optional\n",
      "13 06 018 022 city: XSD optionality mandatory but should be optional\n",
      "13 06 029 015 identifier: XSD optionality mandatory but should be optional\n",
      "13 06 029 002 type: XSD optionality mandatory but should be optional\n",
      "13 13 016 000 name: XSD optionality mandatory but should be optional\n",
      "13 13 017 000 identification number: XSD optionality mandatory but should be optional\n",
      "13 13 028 000 type of person: XSD optionality mandatory but should be optional\n",
      "13 13 018 024 street additional line: XSD optionality mandatory but should be optional\n",
      "13 13 018 020 country: XSD optionality mandatory but should be optional\n",
      "13 13 018 022 city: XSD optionality mandatory but should be optional\n",
      "13 13 029 015 identifier: XSD optionality mandatory but should be optional\n",
      "13 13 029 002 type: XSD optionality mandatory but should be optional\n",
      "13 14 031 000 role: XSD optionality mandatory but should be optional\n",
      "13 14 017 000 identification number: XSD optionality mandatory but should be optional\n",
      "16 13 020 000 country: XSD optionality mandatory but should be optional\n",
      "16 14 000 000 place of unloading: XSD optionality optional but should be mandatory\n",
      "16 14 020 000 country: XSD optionality mandatory but should be optional\n",
      "16 15 000 000 location of goods: XSD optionality optional but should be mandatory\n",
      "16 15 045 000 type of location: XSD optionality mandatory but should be optional\n",
      "16 15 046 000 qualifier of identification: XSD optionality mandatory but should be optional\n",
      "16 15 047 001 reference number: XSD optionality mandatory but should be optional\n",
      "16 15 051 017 identification number: XSD optionality mandatory but should be optional\n",
      "16 15 018 020 country: XSD optionality mandatory but should be optional\n",
      "17 10 001 000 reference number: XSD optionality mandatory but should be optional\n",
      "18 04 001 000 gross mass: XSD optionality mandatory but should be optional\n",
      "18 06 003 000 type of packages: XSD optionality mandatory but should be optional\n",
      "18 08 001 000 cus code: XSD optionality mandatory but should be optional\n",
      "18 09 000 000 commodity code: XSD optionality mandatory but should be optional\n",
      "19 06 000 000 arrival transport means: XSD optionality optional but should be mandatory\n",
      "19 06 061 000 type of identification: XSD optionality mandatory but should be optional\n",
      "19 06 017 000 identification number: XSD optionality mandatory but should be optional\n",
      "19 10 068 000 number of seals: XSD optionality mandatory but should be optional\n",
      "19 10 015 000 identifier: XSD optionality mandatory but should be optional\n"
     ]
    }
   ],
   "source": [
    "\n",
    "for key, value in clarification_elements_w_card.items():\n",
    "    try:\n",
    "        if int(schema_annotations_w_card[key]) != int(value):\n",
    "            #print(key)\n",
    "            #print(schema_annotations_w_card[key], value)\n",
    "            map_dict = {'1' : 'mandatory', '0' : 'optional'}\n",
    "            print(key + \": XSD optionality \" + map_dict[str(schema_annotations_w_card[key])] + \" but should be \" + map_dict[value])\n",
    "    except(KeyError):\n",
    "        pass"
   ]
  }
 ],
 "metadata": {
  "kernelspec": {
   "display_name": "Python 3",
   "language": "python",
   "name": "python3"
  },
  "language_info": {
   "codemirror_mode": {
    "name": "ipython",
    "version": 3
   },
   "file_extension": ".py",
   "mimetype": "text/x-python",
   "name": "python",
   "nbconvert_exporter": "python",
   "pygments_lexer": "ipython3",
   "version": "3.11.7"
  }
 },
 "nbformat": 4,
 "nbformat_minor": 2
}
