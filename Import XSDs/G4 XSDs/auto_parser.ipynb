{
 "cells": [
  {
   "cell_type": "markdown",
   "metadata": {},
   "source": [
    "1. Import libs and read excel (reading excel is slow). Remember to change the filename to the correct excel."
   ]
  },
  {
   "cell_type": "code",
   "execution_count": 2,
   "metadata": {},
   "outputs": [
    {
     "name": "stderr",
     "output_type": "stream",
     "text": [
      "C:\\Users\\ciar\\AppData\\Local\\Temp\\ipykernel_14256\\1318008601.py:2: DeprecationWarning: \n",
      "Pyarrow will become a required dependency of pandas in the next major release of pandas (pandas 3.0),\n",
      "(to allow more performant data types, such as the Arrow string type, and better interoperability with other libraries)\n",
      "but was not found to be installed on your system.\n",
      "If this would cause problems for you,\n",
      "please provide us feedback at https://github.com/pandas-dev/pandas/issues/54466\n",
      "        \n",
      "  import pandas as pd\n"
     ]
    },
    {
     "name": "stdout",
     "output_type": "stream",
     "text": [
      "Finished loading excel \"../../Clarifications/G4 - mandatory data elements 11.10.2023 (1) - Copy.xlsx\".\n"
     ]
    }
   ],
   "source": [
    "from pprint import pprint\n",
    "import pandas as pd\n",
    "import re\n",
    "\n",
    "excel_filepath = '../../Clarifications/G4 - mandatory data elements 11.10.2023 (1) - Copy.xlsx'\n",
    "data = pd.read_excel(excel_filepath)\n",
    "print(\"Finished loading excel \\\"\" + excel_filepath + \"\\\".\")\n"
   ]
  },
  {
   "cell_type": "markdown",
   "metadata": {},
   "source": [
    "2. Extract elements and sub-element names from clarifications excel sheet. Remember to change 'declaration_type' below to the correct value."
   ]
  },
  {
   "cell_type": "code",
   "execution_count": 7,
   "metadata": {},
   "outputs": [
    {
     "name": "stdout",
     "output_type": "stream",
     "text": [
      "Index(['DE No. (Ref ID6)', 'Data element/class name ',\n",
      "       'Data sub-element/sub-class name', 'Ref ID5', 'G4',\n",
      "       'Should the data element (from column B) be filled out on the declaration? ',\n",
      "       'If the data element (from column B) is being declared on the declaration - which data sub-elements (from column C) should then ALWAYS also be filled out? ',\n",
      "       'Initial version', 'Comments'],\n",
      "      dtype='object')\n",
      "['11 03 000 000 goods item number', '11 03 001 000 goods item number', '11 04 000 000 specific circumstance indicator', '11 04 001 000 specific circumstance indicator', '12 01 000 000 previous document', '12 01 001 000 reference number', '12 01 002 000 type', '12 01 007 000 goods item identifier', '12 02 000 000 additional information', '12 02 008 000 code', '12 02 009 000 text', '12 03 000 000 supporting document', '12 03 001 000 reference number', '12 03 002 000 type', '12 04 000 000 additional reference', '12 04 002 000 type', '12 05 000 000 transport document', '12 05 001 000 reference number', '12 05 002 000 type', '12 08 000 000 reference number/ucr', '12 08 001 000 reference number/ucr', '12 09 000 000 lrn', '12 09 001 000 lrn', '12 11 000 000 warehouse', '12 11 002 000 type', '12 11 015 000 identifier', '13 02 000 000 consignor', '13 02 016 000 name', '13 02 017 000 identification number', '13 02 028 000 type of person', '13 02 018 000 address', '13 02 018 023 street', '13 02 018 024 street additional line', '13 02 018 025 number', '13 02 018 026 p.o. box', '13 02 018 027 sub-division', '13 02 018 020 country', '13 02 018 021 postcode', '13 02 018 022 city', '13 02 029 000 communication', '13 02 029 015 identifier', '13 02 029 002 type', '13 03 000 000 consignee', '13 03 016 000 name', '13 03 017 000 identification number', '13 03 028 000 type of person', '13 03 018 000 address', '13 03 018 023 street', '13 03 018 024 street additional line', '13 03 018 025 number', '13 03 018 026 p.o. box', '13 03 018 027 sub-division', '13 03 018 020 country', '13 03 018 021 postcode', '13 03 018 022 city', '13 03 029 000 communication', '13 03 029 015 identifier', '13 03 029 002 type', '13 05 000 000 declarant', '13 05 016 000 name', '13 05 017 000 identification number', '13 05 018 000 address', '13 05 018 023 street', '13 05 018 024 street additional line', '13 05 018 025 number', '13 05 018 026 p.o. box', '13 05 018 027 sub-division', '13 05 018 020 country', '13 05 018 021 postcode', '13 05 018 022 city', '13 05 029 000 communication', '13 05 029 015 identifier', '13 05 029 002 type', '13 06 000 000 representative', '13 06 016 000 name', '13 06 017 000 identification number', '13 06 030 000 status', '13 06 018 000 address', '13 06 018 023 street', '13 06 018 024 street additional line', '13 06 018 025 number', '13 06 018 026 p.o. box', '13 06 018 027 sub-division', '13 06 018 020 country', '13 06 018 021 postcode', '13 06 018 022 city', '13 06 029 000 communication', '13 06 029 015 identifier', '13 06 029 002 type', '13 13 000 000 notify party', '13 13 016 000 name', '13 13 017 000 identification number', '13 13 028 000 type of person', '13 13 018 000 address', '13 13 018 023 street', '13 13 018 024 street additional line', '13 13 018 025 number', '13 13 018 026 p.o. box', '13 13 018 027 sub-division', '13 13 018 020 country', '13 13 018 021 postcode', '13 13 018 022 city', '13 13 029 000 communication', '13 13 029 015 identifier', '13 13 029 002 type', '13 14 000 000 additional supply chain actor', '13 14 031 000 role', '13 14 017 000 identification number', '15 04 000 000 estimated date and time of arrival at the port of unloading', '15 04 001 000 estimated date and time of arrival at the port of unloading', '16 13 000 000 place of loading', '16 13 036 000 un/locode', '16 13 020 000 country', '16 13 037 000 location', '16 14 000 000 place of unloading', '16 14 036 000 un/locode', '16 14 020 000 country', '16 14 037 000 location', '16 15 000 000 location of goods', '16 15 045 000 type of location', '16 15 046 000 qualifier of identification', '16 15 036 000 un/locode', '16 15 052 000 authorisation number', '16 15 053 000 additional identifier', '16 15 047 000 customs office', '16 15 047 001 reference number', '16 15 048 000 gnss', '16 15 048 049 latitude', '16 15 048 050 longitude', '16 15 051 000 economic operator', '16 15 051 017 identification number', '16 15 018 000 address', '16 15 018 019 street and number', '16 15 018 021 postcode', '16 15 018 022 city', '16 15 018 020 country', '16 15 081 000 postcode address', '16 15 081 021 postcode', '16 15 081 025 house number', '16 15 081 020 country', '17 10 000 000 supervising customs office', '17 10 001 000 reference number', '18 03 000 000 total gross mass', '18 03 001 000 total gross mass', '18 04 000 000 gross mass', '18 04 001 000 gross mass', '18 05 000 000 description of goods', '18 05 001 000 description of goods', '18 06 000 000 packaging', '18 06 003 000 type of packages', '18 06 004 000 number of packages', '18 06 054 000 shipping marks', '18 08 000 000 cus code', '18 08 001 000 cus code', '18 09 000 000 commodity code', '18 09 056 000 harmonized system sub-heading code', '18 09 057 000 combined nomenclature code', '19 06 000 000 arrival transport means', '19 06 061 000 type of identification', '19 06 017 000 identification number', '19 07 000 000 transport equipment', '19 07 063 000 container identification number', '19 07 065 000 container packed status', '19 10 000 000 seal', '19 10 068 000 number of seals', '19 10 015 000 identifier', '19 11 000 000 receptacle identification number', '19 11 001 000 receptacle identification number']\n",
      "{'11 03 000 000 goods item number': '0', '11 03 001 000 goods item number': '0', '11 04 000 000 specific circumstance indicator': '0', '11 04 001 000 specific circumstance indicator': '1', '12 01 000 000 previous document': '0', '12 01 001 000 reference number': '0', '12 01 002 000 type': '0', '12 01 007 000 goods item identifier': '0', '12 02 000 000 additional information': '0', '12 02 008 000 code': '0', '12 02 009 000 text': '0', '12 03 000 000 supporting document': '0', '12 03 001 000 reference number': '0', '12 03 002 000 type': '0', '12 04 000 000 additional reference': '0', '12 04 002 000 type': '0', '12 05 000 000 transport document': '0', '12 05 001 000 reference number': '0', '12 05 002 000 type': '0', '12 08 000 000 reference number/ucr': '0', '12 08 001 000 reference number/ucr': '0', '12 09 000 000 lrn': '1', '12 09 001 000 lrn': '1', '12 11 000 000 warehouse': '1', '12 11 002 000 type': '1', '12 11 015 000 identifier': '1', '13 02 000 000 consignor': '0', '13 02 016 000 name': '0', '13 02 017 000 identification number': '0', '13 02 028 000 type of person': '0', '13 02 018 000 address': '0', '13 02 018 023 street': '0', '13 02 018 024 street additional line': '0', '13 02 018 025 number': '0', '13 02 018 026 p.o. box': '0', '13 02 018 027 sub-division': '0', '13 02 018 020 country': '0', '13 02 018 021 postcode': '0', '13 02 018 022 city': '0', '13 02 029 000 communication': '0', '13 02 029 015 identifier': '0', '13 02 029 002 type': '0', '13 03 000 000 consignee': '0', '13 03 016 000 name': '0', '13 03 017 000 identification number': '0', '13 03 028 000 type of person': '0', '13 03 018 000 address': '0', '13 03 018 023 street': '0', '13 03 018 024 street additional line': '0', '13 03 018 025 number': '0', '13 03 018 026 p.o. box': '0', '13 03 018 027 sub-division': '0', '13 03 018 020 country': '0', '13 03 018 021 postcode': '0', '13 03 018 022 city': '0', '13 03 029 000 communication': '0', '13 03 029 015 identifier': '0', '13 03 029 002 type': '0', '13 05 000 000 declarant': '1', '13 05 016 000 name': '0', '13 05 017 000 identification number': '1', '13 05 018 000 address': '0', '13 05 018 023 street': '1', '13 05 018 024 street additional line': '0', '13 05 018 025 number': '1', '13 05 018 026 p.o. box': '0', '13 05 018 027 sub-division': '0', '13 05 018 020 country': '1', '13 05 018 021 postcode': '1', '13 05 018 022 city': '1', '13 05 029 000 communication': '0', '13 05 029 015 identifier': '1', '13 05 029 002 type': '1', '13 06 000 000 representative': '0', '13 06 016 000 name': '0', '13 06 017 000 identification number': '1', '13 06 030 000 status': '1', '13 06 018 000 address': '0', '13 06 018 023 street': '0', '13 06 018 024 street additional line': '0', '13 06 018 025 number': '0', '13 06 018 026 p.o. box': '0', '13 06 018 027 sub-division': '0', '13 06 018 020 country': '0', '13 06 018 021 postcode': '0', '13 06 018 022 city': '0', '13 06 029 000 communication': '0', '13 06 029 015 identifier': '1', '13 06 029 002 type': '1', '13 13 000 000 notify party': '0', '13 13 016 000 name': '0', '13 13 017 000 identification number': '0', '13 13 028 000 type of person': '0', '13 13 018 000 address': '0', '13 13 018 023 street': '0', '13 13 018 024 street additional line': '0', '13 13 018 025 number': '0', '13 13 018 026 p.o. box': '0', '13 13 018 027 sub-division': '0', '13 13 018 020 country': '0', '13 13 018 021 postcode': '0', '13 13 018 022 city': '0', '13 13 029 000 communication': '0', '13 13 029 015 identifier': '0', '13 13 029 002 type': '0', '13 14 000 000 additional supply chain actor': '0', '13 14 031 000 role': '0', '13 14 017 000 identification number': '0', '15 04 000 000 estimated date and time of arrival at the port of unloading': '0', '15 04 001 000 estimated date and time of arrival at the port of unloading': '1', '16 13 000 000 place of loading': '1', '16 13 036 000 un/locode': '0', '16 13 020 000 country': '0', '16 13 037 000 location': '0', '16 14 000 000 place of unloading': '1', '16 14 036 000 un/locode': '0', '16 14 020 000 country': '0', '16 14 037 000 location': '0', '16 15 000 000 location of goods': '1', '16 15 045 000 type of location': '1', '16 15 046 000 qualifier of identification': '1', '16 15 036 000 un/locode': '0', '16 15 052 000 authorisation number': '0', '16 15 053 000 additional identifier': '0', '16 15 047 000 customs office': '0', '16 15 047 001 reference number': '1', '16 15 048 000 gnss': '0', '16 15 048 049 latitude': '1', '16 15 048 050 longitude': '1', '16 15 051 000 economic operator': '0', '16 15 051 017 identification number': '1', '16 15 018 000 address': '0', '16 15 018 019 street and number': '1', '16 15 018 021 postcode': '1', '16 15 018 022 city': '1', '16 15 018 020 country': '1', '16 15 081 000 postcode address': '0', '16 15 081 021 postcode': '1', '16 15 081 025 house number': '1', '16 15 081 020 country': '1', '17 10 000 000 supervising customs office': '0', '17 10 001 000 reference number': '1', '18 03 000 000 total gross mass': '0', '18 03 001 000 total gross mass': '0', '18 04 000 000 gross mass': '0', '18 04 001 000 gross mass': '0', '18 05 000 000 description of goods': '0', '18 05 001 000 description of goods': '0', '18 06 000 000 packaging': '0', '18 06 003 000 type of packages': '0', '18 06 004 000 number of packages': '0', '18 06 054 000 shipping marks': '0', '18 08 000 000 cus code': '0', '18 08 001 000 cus code': '0', '18 09 000 000 commodity code': '0', '18 09 056 000 harmonized system sub-heading code': '0', '18 09 057 000 combined nomenclature code': '0', '19 06 000 000 arrival transport means': '1', '19 06 061 000 type of identification': '1', '19 06 017 000 identification number': '1', '19 07 000 000 transport equipment': '0', '19 07 063 000 container identification number': '0', '19 07 065 000 container packed status': '0', '19 10 000 000 seal': '0', '19 10 068 000 number of seals': '0', '19 10 015 000 identifier': '0', '19 11 000 000 receptacle identification number': '0', '19 11 001 000 receptacle identification number': '1'}\n",
      "Finished reading elements from clarifications excel sheet.\n"
     ]
    }
   ],
   "source": [
    "'''Remember to change this to your own declaration type.'''\n",
    "declaration_type = 'G4'\n",
    "\n",
    "clarification_elements = []\n",
    "clarification_elements_w_card = {}\n",
    "\n",
    "#print(data.keys())\n",
    "\n",
    "for i in range(data.shape[0]):\n",
    "    element = data.at[i, 'Data element/class name ']\n",
    "    card = data.at[i,'Should the data element (from column B) be filled out on the declaration? ']\n",
    "    if element != element:\n",
    "        element = data.at[i, 'Data sub-element/sub-class name']\n",
    "        card = data.at[i,'If the data element (from column B) is being declared on the declaration - which data sub-elements (from column C) should then ALWAYS also be filled out? ']\n",
    "    if card == 'M':\n",
    "        cnt = 0\n",
    "        if 'MC' in data.at[i, declaration_type]:\n",
    "            cnt +=1\n",
    "        if 'MI' in data.at[i, declaration_type]:\n",
    "            cnt +=1\n",
    "        if 'HC' in data.at[i, declaration_type]:\n",
    "            cnt +=1\n",
    "        if 'HI' in data.at[i, declaration_type]:\n",
    "            cnt +=1\n",
    "        if cnt > 1:\n",
    "            card_1 = '0'\n",
    "        else: \n",
    "            card_1 = '1'\n",
    "    else:\n",
    "            card_1 = '0'\n",
    "    clarification_elements.append(data.at[i, 'DE No. (Ref ID6)'] + \" \" + element.lower())\n",
    "    clarification_elements_w_card[data.at[i, 'DE No. (Ref ID6)'] + \" \" + element.lower()] = card_1\n",
    "#print(clarification_elements)\n",
    "#print(clarification_elements_w_card)\n",
    "print(\"Finished reading elements from clarifications excel sheet.\")\n"
   ]
  },
  {
   "cell_type": "markdown",
   "metadata": {},
   "source": [
    "3. Extract EUCDM name annotations from XSD file\n",
    "\n",
    "(NOTE: this assumes all elements are correctly annotated, which for G4 they are because I manually edited them, ALWAYS annotate the elements right under the element header!!!!)\n",
    "\n",
    "Remember to change the XSD filename below."
   ]
  },
  {
   "cell_type": "code",
   "execution_count": 24,
   "metadata": {},
   "outputs": [
    {
     "name": "stdout",
     "output_type": "stream",
     "text": [
      "['12 09 001 000 lrn', '11 04 001 000 specific circumstance indicator', '13 06 000 000 representative', '13 06 016 000 name', '13 06 017 000 identification number', '13 06 018 000 address', '13 06 018 022 city', '13 06 018 020 country', '13 06 018 024 street additional line', '13 06 018 021 postcode', '13 06 018 023 street', '13 06 018 025 number', '13 06 018 026 p.o. box', '13 06 018 027 sub-division', '13 06 029 000 communication', '13 06 029 015 identifier', '13 06 029 002 type', '13 06 030 000 status', '13 05 000 000 declarant', '13 05 016 000 name', '13 05 017 000 identification number', '13 05 018 000 address', '13 05 018 022 city', '13 05 018 020 country', '13 05 018 024 street additional line', '13 05 018 021 postcode', '13 05 018 023 street', '13 05 018 025 number', '13 05 018 026 p.o. box', '13 05 018 027 sub-division', '13 05 029 000 communication', '13 05 029 015 identifier', '13 05 029 002 type', '15 04 001 000 estimated date and time of arrival at the port of unloading', '17 10 000 000 supervising customs office', '17 10 001 000 reference number', '18 03 001 000 total gross mass', '19 11 001 000 receptacle identification number', '15 04 001 000 estimated date and time of arrival at the port of unloading', '12 02 000 000 additional information', '12 02 008 000 code', '12 02 009 000 text', '12 04 000 000 additional reference', '12 04 002 000 type', '13 14 000 000 additional supply chain actor', '13 14 017 000 identification number', '13 14 031 000 role', '19 06 000 000 arrival transport means', '19 06 017 000 identification number', '19 06 061 000 type of identification', '13 03 000 000 consignee', '13 03 016 000 name', '13 03 017 000 identification number', '13 03 018 000 address', '13 03 018 022 city', '13 03 018 020 country', '13 03 018 024 street additional line', '13 03 018 021 postcode', '13 03 018 023 street', '13 03 018 025 number', '13 03 018 026 p.o. box', '13 03 018 027 sub-division', '13 03 029 000 communication', '13 03 029 015 identifier', '13 03 029 002 type', '13 03 028 000 type of person', '11 03 000 000 goods item number', '11 03 001 000 goods item number', '18 06 000 000 packaging', '18 06 054 000 shipping marks', '18 06 004 000 number of packages', '18 06 003 000 type of packages', '12 02 000 000 additional information', '12 02 008 000 code', '12 02 009 000 text', '13 14 000 000 additional supply chain actor', '13 14 017 000 identification number', '13 14 031 000 role', '18 09 000 000 commodity code', '18 05 000 000 description of goods', '18 05 001 000 description of goods', '18 08 000 000 cus code', '18 08 001 000 cus code', '18 09 056 000 harmonized system sub-heading code', '18 09 057 000 combined nomenclature code', '18 08 001 000 cus code', '18 09 057 000 combined nomenclature code', '18 04 000 000 gross mass', '18 04 001 000 gross mass', '12 01 000 000 previous document', '12 01 007 000 goods item identifier', '12 01 001 000 reference number', '12 01 002 000 type', '12 03 000 000 supporting document', '12 03 001 000 reference number', '12 03 002 000 type', '19 07 000 000 transport equipment', '19 07 065 000 container packed status', '19 07 063 000 container identification number', '19 10 068 000 number of seals', '19 10 000 000 seal', '19 10 015 000 identifier', '13 02 000 000 consignor', '13 02 016 000 name', '13 02 017 000 identification number', '13 02 018 000 address', '13 02 018 022 city', '13 02 018 020 country', '13 02 018 024 street additional line', '13 02 018 021 postcode', '13 02 018 023 street', '13 02 018 025 number', '13 02 018 026 p.o. box', '13 02 018 027 sub-division', '13 02 029 000 communication', '13 02 029 015 identifier', '13 02 029 002 type', '13 02 028 000 type of person', '16 15 000 000 location of goods', '16 15 036 000 un/locode', '16 15 045 000 type of location', '16 15 053 000 additional identifier', '16 15 048 049 latitude', '16 15 048 050 longitude', '16 15 018 000 address', '16 15 018 022 city', '16 15 018 020 country', '16 15 081 020 country', '16 15 018 019 street and number', '16 15 018 021 postcode', '16 15 081 025 house number', '16 15 046 000 qualifier of identification', '16 15 052 000 authorisation number', '16 15 047 000 customs office', '16 15 047 001 reference number', '16 15 051 000 economic operator', '16 15 051 017 identification number', '18 03 001 000 total gross mass', '12 04 000 000 additional reference', '12 04 002 000 type', '13 14 000 000 additional supply chain actor', '13 14 017 000 identification number', '13 14 031 000 role', '13 03 000 000 consignee', '13 03 016 000 name', '13 03 017 000 identification number', '13 03 018 000 address', '13 03 018 022 city', '13 03 018 020 country', '13 03 018 024 street additional line', '13 03 018 021 postcode', '13 03 018 023 street', '13 03 018 025 number', '13 03 018 026 p.o. box', '13 03 018 027 sub-division', '13 03 029 015 identifier', '13 03 029 002 type', '13 03 028 000 type of person', '11 03 000 000 goods item number', '11 03 001 000 goods item number', '18 06 000 000 packaging', '18 06 054 000 shipping marks', '18 06 004 000 number of packages', '18 06 003 000 type of packages', '12 02 000 000 additional information', '12 02 008 000 code', '12 02 009 000 text', '12 04 000 000 additional reference', '12 04 002 000 type', '13 14 000 000 additional supply chain actor', '13 14 017 000 identification number', '13 14 031 000 role', '18 09 000 000 commodity code', '18 05 000 000 description of goods', '18 05 001 000 description of goods', '18 08 000 000 cus code', '18 04 000 000 gross mass', '12 01 000 000 previous document', '12 01 007 000 goods item identifier', '12 01 001 000 reference number', '12 01 002 000 type', '12 03 000 000 supporting document', '12 03 001 000 reference number', '12 03 002 000 type', '19 07 000 000 transport equipment', '19 07 065 000 container packed status', '19 07 063 000 container identification number', '19 10 068 000 number of seals', '19 10 000 000 seal', '19 10 015 000 identifier', '13 02 000 000 consignor', '13 02 016 000 name', '13 02 017 000 identification number', '13 02 018 000 address', '13 02 018 022 city', '13 02 018 020 country', '13 02 018 024 street additional line', '13 02 018 021 postcode', '13 02 018 023 street', '13 02 018 025 number', '13 02 018 026 p.o. box', '13 02 018 027 sub-division', '13 02 029 000 communication', '13 02 029 015 identifier', '13 02 029 002 type', '13 02 028 000 type of person', '13 13 000 000 notify party', '13 13 016 000 name', '13 13 017 000 identification number', '13 13 018 000 address', '13 13 018 022 city', '13 13 018 020 country', '13 13 018 024 street additional line', '13 13 018 021 postcode', '13 13 018 023 street', '13 13 018 025 number', '13 13 018 026 p.o. box', '13 13 018 027 sub-division', '13 13 029 000 communication', '13 13 029 015 identifier', '13 13 029 002 type', '13 13 028 000 type of person', '12 01 000 000 previous document', '12 01 007 000 goods item identifier', '12 01 001 000 reference number', '12 01 002 000 type', '12 03 000 000 supporting document', '12 03 001 000 reference number', '12 03 002 000 type', '12 05 000 000 transport document', '12 05 001 000 reference number', '12 05 002 000 type', '19 07 000 000 transport equipment', '19 07 065 000 container packed status', '19 07 063 000 container identification number', '19 10 068 000 number of seals', '19 10 000 000 seal', '19 10 015 000 identifier', '12 08 000 000 reference number/ucr', '12 08 001 000 reference number/ucr', '16 13 000 000 place of loading', '16 13 037 000 location', '16 13 036 000 un/locode', '16 13 020 000 country', '13 13 000 000 notify party', '13 13 016 000 name', '13 13 017 000 identification number', '13 13 018 000 address', '13 13 018 022 city', '13 13 018 020 country', '13 13 018 024 street additional line', '13 13 018 021 postcode', '13 13 018 023 street', '13 13 018 025 number', '13 13 018 026 p.o. box', '13 13 018 027 sub-division', '13 13 029 000 communication', '13 13 029 015 identifier', '13 13 029 002 type', '13 13 028 000 type of person', '12 01 000 000 previous document', '12 01 007 000 goods item identifier', '12 01 001 000 reference number', '12 01 002 000 type', '12 03 000 000 supporting document', '12 03 001 000 reference number', '12 03 002 000 type', '12 05 000 000 transport document', '12 05 001 000 reference number', '12 05 002 000 type', '19 07 000 000 transport equipment', '19 07 065 000 container packed status', '19 07 063 000 container identification number', '19 10 068 000 number of seals', '19 10 000 000 seal', '19 10 015 000 identifier', '16 14 000 000 place of unloading', '16 14 037 000 location', '16 14 036 000 un/locode', '16 14 020 000 country', '12 08 000 000 reference number/ucr', '12 08 001 000 reference number/ucr', '12 11 000 000 warehouse', '12 11 002 000 type', '12 11 015 000 identifier']\n",
      "{'12 09 001 000 lrn': 1, '11 04 001 000 specific circumstance indicator': 0, '13 06 000 000 representative': 0, '13 06 016 000 name': 0, '13 06 017 000 identification number': 1, '13 06 018 000 address': 0, '13 06 018 022 city': 1, '13 06 018 020 country': 1, '13 06 018 024 street additional line': 1, '13 06 018 021 postcode': 0, '13 06 018 023 street': 0, '13 06 018 025 number': 0, '13 06 018 026 p.o. box': 0, '13 06 018 027 sub-division': 0, '13 06 029 000 communication': 0, '13 06 029 015 identifier': 1, '13 06 029 002 type': 1, '13 06 030 000 status': 1, '13 05 000 000 declarant': 1, '13 05 016 000 name': 1, '13 05 017 000 identification number': 1, '13 05 018 000 address': 0, '13 05 018 022 city': 1, '13 05 018 020 country': 1, '13 05 018 024 street additional line': 1, '13 05 018 021 postcode': 0, '13 05 018 023 street': 0, '13 05 018 025 number': 0, '13 05 018 026 p.o. box': 0, '13 05 018 027 sub-division': 0, '13 05 029 000 communication': 0, '13 05 029 015 identifier': 1, '13 05 029 002 type': 1, '15 04 001 000 estimated date and time of arrival at the port of unloading': 0, '17 10 000 000 supervising customs office': 0, '17 10 001 000 reference number': 1, '18 03 001 000 total gross mass': 0, '19 11 001 000 receptacle identification number': 0, '12 02 000 000 additional information': 0, '12 02 008 000 code': 1, '12 02 009 000 text': 0, '12 04 000 000 additional reference': 0, '12 04 002 000 type': 1, '13 14 000 000 additional supply chain actor': 0, '13 14 017 000 identification number': 1, '13 14 031 000 role': 1, '19 06 000 000 arrival transport means': 0, '19 06 017 000 identification number': 1, '19 06 061 000 type of identification': 1, '13 03 000 000 consignee': 0, '13 03 016 000 name': 0, '13 03 017 000 identification number': 0, '13 03 018 000 address': 0, '13 03 018 022 city': 1, '13 03 018 020 country': 1, '13 03 018 024 street additional line': 1, '13 03 018 021 postcode': 0, '13 03 018 023 street': 0, '13 03 018 025 number': 0, '13 03 018 026 p.o. box': 0, '13 03 018 027 sub-division': 0, '13 03 029 000 communication': 0, '13 03 029 015 identifier': 1, '13 03 029 002 type': 1, '13 03 028 000 type of person': 1, '11 03 001 000 goods item number': 1, '18 06 000 000 packaging': 0, '18 06 054 000 shipping marks': 0, '18 06 004 000 number of packages': 0, '18 06 003 000 type of packages': 1, '18 09 000 000 commodity code': 1, '18 05 001 000 description of goods': 0, '18 08 000 000 cus code': 0, '18 08 001 000 cus code': 1, '18 04 000 000 gross mass': 0, '18 04 001 000 gross mass': 1, '12 01 000 000 previous document': 0, '12 01 007 000 goods item identifier': 1, '12 01 001 000 reference number': 1, '12 01 002 000 type': 1, '12 03 000 000 supporting document': 0, '12 03 001 000 reference number': 1, '12 03 002 000 type': 1, '19 07 000 000 transport equipment': 0, '19 07 065 000 container packed status': 0, '19 07 063 000 container identification number': 0, '19 10 068 000 number of seals': 1, '19 10 000 000 seal': 0, '19 10 015 000 identifier': 1, '13 02 000 000 consignor': 0, '13 02 016 000 name': 1, '13 02 017 000 identification number': 1, '13 02 018 000 address': 0, '13 02 018 022 city': 1, '13 02 018 020 country': 1, '13 02 018 024 street additional line': 1, '13 02 018 021 postcode': 0, '13 02 018 023 street': 0, '13 02 018 025 number': 0, '13 02 018 026 p.o. box': 0, '13 02 018 027 sub-division': 0, '13 02 029 000 communication': 0, '13 02 029 015 identifier': 1, '13 02 029 002 type': 1, '13 02 028 000 type of person': 1, '16 15 000 000 location of goods': 0, '16 15 036 000 un/locode': 0, '16 15 045 000 type of location': 1, '16 15 053 000 additional identifier': 0, '16 15 048 049 latitude': 0, '16 15 048 050 longitude': 0, '16 15 018 000 address': 0, '16 15 018 022 city': 0, '16 15 018 020 country': 1, '16 15 018 019 street and number': 0, '16 15 018 021 postcode': 0, '16 15 081 025 house number': 0, '16 15 046 000 qualifier of identification': 1, '16 15 052 000 authorisation number': 0, '16 15 047 000 customs office': 0, '16 15 047 001 reference number': 1, '16 15 051 000 economic operator': 0, '16 15 051 017 identification number': 1, '13 13 000 000 notify party': 0, '13 13 016 000 name': 1, '13 13 017 000 identification number': 1, '13 13 018 000 address': 0, '13 13 018 022 city': 1, '13 13 018 020 country': 1, '13 13 018 024 street additional line': 1, '13 13 018 021 postcode': 0, '13 13 018 023 street': 0, '13 13 018 025 number': 0, '13 13 018 026 p.o. box': 0, '13 13 018 027 sub-division': 0, '13 13 029 000 communication': 0, '13 13 029 015 identifier': 1, '13 13 029 002 type': 1, '13 13 028 000 type of person': 1, '12 05 000 000 transport document': 1, '12 05 001 000 reference number': 1, '12 05 002 000 type': 1, '12 08 000 000 reference number/ucr': 0, '12 08 001 000 reference number/ucr': 1, '16 13 000 000 place of loading': 1, '16 13 037 000 location': 0, '16 13 036 000 un/locode': 0, '16 13 020 000 country': 1, '16 14 000 000 place of unloading': 0, '16 14 037 000 location': 0, '16 14 036 000 un/locode': 0, '16 14 020 000 country': 1, '12 11 000 000 warehouse': 0, '12 11 002 000 type': 0, '12 11 015 000 identifier': 0}\n",
      "Finished extracting XSD elements.\n"
     ]
    }
   ],
   "source": [
    "'''Change this filename to the XSD you want to edit.'''\n",
    "XSD_filename = './G4_DMS_v0.1.xsd'\n",
    "\n",
    "def extract_elements(text, search_by):\n",
    "    # Define the regex pattern\n",
    "    if search_by == 'Name':\n",
    "        pattern = r\"<EUCDMname>(.*?)</EUCDMname>\"\n",
    "    elif search_by == 'Number':\n",
    "        pattern = r\"<code>(.*?)</code>\"\n",
    "    elif search_by == 'Both':\n",
    "        pattern = (\n",
    "                r\"<EUCDMname>(.*?)</EUCDMname>\\s*\"\n",
    "                r\"<EUCDMversion>(.*?)</EUCDMversion>\\s*\"\n",
    "                r\"<code>(.*?)</code>\"\n",
    "            )\n",
    "    elif search_by == 'get element name':\n",
    "        pattern = (\n",
    "                r\"<xs:element name=(.*?)\\s*\"\n",
    "                r\"<xs:annotation>\\s*\"\n",
    "                r\"<xs:documentation>\\s*\"\n",
    "                r\"<EUCDMname>(.*?)</EUCDMname>\\s*\"\n",
    "                r\"<EUCDMversion>(.*?)</EUCDMversion>\\s*\"\n",
    "                r\"<code>(.*?)</code>\"\n",
    "            )\n",
    "\n",
    "\n",
    "    # Use re.findall to extract all occurrences\n",
    "    matches = re.findall(pattern, text)\n",
    "    # Return the matches\n",
    "    return matches\n",
    "\n",
    "text = open(XSD_filename, 'r').read()\n",
    "# element_name_annotations = extract_elements(text, 'Name')\n",
    "# element_number_annotations = extract_elements(text, 'Number')\n",
    "annotations = extract_elements(text, 'Both')\n",
    "\n",
    "elements = extract_elements(text, 'get element name')\n",
    "element_names = []\n",
    "for i in range(len(elements)):\n",
    "    element_names.append(elements[i][0])\n",
    "\n",
    "schema_annotations = []\n",
    "for i in range(len(annotations)):\n",
    "    schema_annotations.append(annotations[i][2] + \" \" + annotations[i][0].lower()) \n",
    "\n",
    "#print(schema_annotations)\n",
    "\n",
    "optionality = [] # 0 = optional, 1 = mandatory\n",
    "for element in element_names:\n",
    "    if \"minOccurs=\\\"0\\\"\" in element:\n",
    "        optionality.append(0)\n",
    "    else:\n",
    "        optionality.append(1)\n",
    "\n",
    "schema_annotations_w_card = {}\n",
    "for i in range(len(element_names)):\n",
    "    schema_annotations_w_card[elements[i][3] + \" \" + elements[i][1].lower()] = optionality[i]\n",
    "#print(schema_annotations_w_card)\n",
    "print(\"Finished extracting XSD elements.\")\n",
    "\n",
    "\n",
    "\n"
   ]
  },
  {
   "cell_type": "markdown",
   "metadata": {},
   "source": [
    "4. Check if elements are missing from XSD or if elements need to be removed from XSD."
   ]
  },
  {
   "cell_type": "code",
   "execution_count": 25,
   "metadata": {},
   "outputs": [
    {
     "name": "stdout",
     "output_type": "stream",
     "text": [
      "The following elements from the clarifications excel sheet are missing from the XSD: \n",
      "11 04 000 000 specific circumstance indicator\n",
      "12 09 000 000 lrn\n",
      "15 04 000 000 estimated date and time of arrival at the port of unloading\n",
      "16 15 048 000 gnss\n",
      "16 15 081 000 postcode address\n",
      "16 15 081 021 postcode\n",
      "18 03 000 000 total gross mass\n",
      "19 11 000 000 receptacle identification number\n",
      "\n",
      "\n",
      "The following elements in the XSD are not present in the clarifications excel sheet: \n"
     ]
    }
   ],
   "source": [
    "#schema_annotations =  {k.lower(): v for k, v in schema_annotations.items()}\n",
    "print(\"The following elements from the clarifications excel sheet are missing from the XSD: \")\n",
    "for item in clarification_elements:\n",
    "    if item not in schema_annotations: #or val not in schema_annotations.values():\n",
    "        print(item)\n",
    "print(\"\\n\")\n",
    "\n",
    "print(\"The following elements in the XSD are not present in the clarifications excel sheet: \")\n",
    "for item in schema_annotations:\n",
    "    if item not in clarification_elements: #or val not in schema_annotations.values():\n",
    "        print(item)\n"
   ]
  },
  {
   "cell_type": "markdown",
   "metadata": {},
   "source": [
    "5. Check that optionality is correct: are there any elements that are optional that should be mandatory and vice versa?"
   ]
  },
  {
   "cell_type": "code",
   "execution_count": 1,
   "metadata": {},
   "outputs": [
    {
     "ename": "SyntaxError",
     "evalue": "closing parenthesis ')' does not match opening parenthesis '[' (1472942565.py, line 7)",
     "output_type": "error",
     "traceback": [
      "\u001b[1;36m  Cell \u001b[1;32mIn[1], line 7\u001b[1;36m\u001b[0m\n\u001b[1;33m    print(key + \": XSD optionality \" + map_dict[str(schema_annotations_w_card[key])] + \" but should be \" + map_dict[value)]\u001b[0m\n\u001b[1;37m                                                                                                                         ^\u001b[0m\n\u001b[1;31mSyntaxError\u001b[0m\u001b[1;31m:\u001b[0m closing parenthesis ')' does not match opening parenthesis '['\n"
     ]
    }
   ],
   "source": [
    "\n",
    "for key, value in clarification_elements_w_card.items():\n",
    "    try:\n",
    "        if int(schema_annotations_w_card[key]) != int(value):\n",
    "            #print(key)\n",
    "            #print(schema_annotations_w_card[key], value)\n",
    "            map_dict = {'1' : 'mandatory', '0' : 'optional'}\n",
    "            print(key + \": XSD optionality \" + map_dict[str(schema_annotations_w_card[key])] + \" but should be \" + map_dict[value])\n",
    "    except(KeyError):\n",
    "        pass"
   ]
  }
 ],
 "metadata": {
  "kernelspec": {
   "display_name": "Python 3",
   "language": "python",
   "name": "python3"
  },
  "language_info": {
   "codemirror_mode": {
    "name": "ipython",
    "version": 3
   },
   "file_extension": ".py",
   "mimetype": "text/x-python",
   "name": "python",
   "nbconvert_exporter": "python",
   "pygments_lexer": "ipython3",
   "version": "3.11.7"
  }
 },
 "nbformat": 4,
 "nbformat_minor": 2
}
