{
 "cells": [
  {
   "cell_type": "markdown",
   "metadata": {},
   "source": [
    "1. Import libs and read excel (reading excel is slow)"
   ]
  },
  {
   "cell_type": "code",
   "execution_count": 2,
   "metadata": {},
   "outputs": [
    {
     "name": "stderr",
     "output_type": "stream",
     "text": [
      "C:\\Users\\ciar\\AppData\\Local\\Temp\\ipykernel_25948\\1252154880.py:2: DeprecationWarning: \n",
      "Pyarrow will become a required dependency of pandas in the next major release of pandas (pandas 3.0),\n",
      "(to allow more performant data types, such as the Arrow string type, and better interoperability with other libraries)\n",
      "but was not found to be installed on your system.\n",
      "If this would cause problems for you,\n",
      "please provide us feedback at https://github.com/pandas-dev/pandas/issues/54466\n",
      "        \n",
      "  import pandas as pd\n"
     ]
    }
   ],
   "source": [
    "from pprint import pprint\n",
    "import pandas as pd\n",
    "import re\n",
    "data = pd.read_excel('../../Clarifications/G4 - mandatory data elements 11.10.2023 (1) - Copy.xlsx')\n"
   ]
  },
  {
   "cell_type": "markdown",
   "metadata": {},
   "source": [
    "2. Extract elements and sub-element names from clarifications excel sheet"
   ]
  },
  {
   "cell_type": "code",
   "execution_count": 7,
   "metadata": {},
   "outputs": [
    {
     "name": "stdout",
     "output_type": "stream",
     "text": [
      "Index(['DE No. (Ref ID6)', 'Data element/class name ',\n",
      "       'Data sub-element/sub-class name', 'Ref ID5', 'G4',\n",
      "       'Should the data element (from column B) be filled out on the declaration? ',\n",
      "       'If the data element (from column B) is being declared on the declaration - which data sub-elements (from column C) should then ALWAYS also be filled out? ',\n",
      "       'Initial version', 'Comments'],\n",
      "      dtype='object')\n",
      "['11 03 000 000 goods item number', '11 03 001 000 goods item number', '11 04 000 000 specific circumstance indicator', '11 04 001 000 specific circumstance indicator', '12 01 000 000 previous document', '12 01 001 000 reference number', '12 01 002 000 type', '12 01 007 000 goods item identifier', '12 02 000 000 additional information', '12 02 008 000 code', '12 02 009 000 text', '12 03 000 000 supporting document', '12 03 001 000 reference number', '12 03 002 000 type', '12 04 000 000 additional reference', '12 04 002 000 type', '12 05 000 000 transport document', '12 05 001 000 reference number', '12 05 002 000 type', '12 08 000 000 reference number/ucr', '12 08 001 000 reference number/ucr', '12 09 000 000 lrn', '12 09 001 000 lrn', '12 11 000 000 warehouse', '12 11 002 000 type', '12 11 015 000 identifier', '13 02 000 000 consignor', '13 02 016 000 name', '13 02 017 000 identification number', '13 02 028 000 type of person', '13 02 018 000 address', '13 02 018 023 street', '13 02 018 024 street additional line', '13 02 018 025 number', '13 02 018 026 p.o. box', '13 02 018 027 sub-division', '13 02 018 020 country', '13 02 018 021 postcode', '13 02 018 022 city', '13 02 029 000 communication', '13 02 029 015 identifier', '13 02 029 002 type', '13 03 000 000 consignee', '13 03 016 000 name', '13 03 017 000 identification number', '13 03 028 000 type of person', '13 03 018 000 address', '13 03 018 023 street', '13 03 018 024 street additional line', '13 03 018 025 number', '13 03 018 026 p.o. box', '13 03 018 027 sub-division', '13 03 018 020 country', '13 03 018 021 postcode', '13 03 018 022 city', '13 03 029 000 communication', '13 03 029 015 identifier', '13 03 029 002 type', '13 05 000 000 declarant', '13 05 016 000 name', '13 05 017 000 identification number', '13 05 018 000 address', '13 05 018 023 street', '13 05 018 024 street additional line', '13 05 018 025 number', '13 05 018 026 p.o. box', '13 05 018 027 sub-division', '13 05 018 020 country', '13 05 018 021 postcode', '13 05 018 022 city', '13 05 029 000 communication', '13 05 029 015 identifier', '13 05 029 002 type', '13 06 000 000 representative', '13 06 016 000 name', '13 06 017 000 identification number', '13 06 030 000 status', '13 06 018 000 address', '13 06 018 023 street', '13 06 018 024 street additional line', '13 06 018 025 number', '13 06 018 026 p.o. box', '13 06 018 027 sub-division', '13 06 018 020 country', '13 06 018 021 postcode', '13 06 018 022 city', '13 06 029 000 communication', '13 06 029 015 identifier', '13 06 029 002 type', '13 13 000 000 notify party', '13 13 016 000 name', '13 13 017 000 identification number', '13 13 028 000 type of person', '13 13 018 000 address', '13 13 018 023 street', '13 13 018 024 street additional line', '13 13 018 025 number', '13 13 018 026 p.o. box', '13 13 018 027 sub-division', '13 13 018 020 country', '13 13 018 021 postcode', '13 13 018 022 city', '13 13 029 000 communication', '13 13 029 015 identifier', '13 13 029 002 type', '13 14 000 000 additional supply chain actor', '13 14 031 000 role', '13 14 017 000 identification number', '15 04 000 000 estimated date and time of arrival at the port of unloading', '15 04 001 000 estimated date and time of arrival at the port of unloading', '16 13 000 000 place of loading', '16 13 036 000 un/locode', '16 13 020 000 country', '16 13 037 000 location', '16 14 000 000 place of unloading', '16 14 036 000 un/locode', '16 14 020 000 country', '16 14 037 000 location', '16 15 000 000 location of goods', '16 15 045 000 type of location', '16 15 046 000 qualifier of identification', '16 15 036 000 un/locode', '16 15 052 000 authorisation number', '16 15 053 000 additional identifier', '16 15 047 000 customs office', '16 15 047 001 reference number', '16 15 048 000 gnss', '16 15 048 049 latitude', '16 15 048 050 longitude', '16 15 051 000 economic operator', '16 15 051 017 identification number', '16 15 018 000 address', '16 15 018 019 street and number', '16 15 018 021 postcode', '16 15 018 022 city', '16 15 018 020 country', '16 15 081 000 postcode address', '16 15 081 021 postcode', '16 15 081 025 house number', '16 15 081 020 country', '17 10 000 000 supervising customs office', '17 10 001 000 reference number', '18 03 000 000 total gross mass', '18 03 001 000 total gross mass', '18 04 000 000 gross mass', '18 04 001 000 gross mass', '18 05 000 000 description of goods', '18 05 001 000 description of goods', '18 06 000 000 packaging', '18 06 003 000 type of packages', '18 06 004 000 number of packages', '18 06 054 000 shipping marks', '18 08 000 000 cus code', '18 08 001 000 cus code', '18 09 000 000 commodity code', '18 09 056 000 harmonized system sub-heading code', '18 09 057 000 combined nomenclature code', '19 06 000 000 arrival transport means', '19 06 061 000 type of identification', '19 06 017 000 identification number', '19 07 000 000 transport equipment', '19 07 063 000 container identification number', '19 07 065 000 container packed status', '19 10 000 000 seal', '19 10 068 000 number of seals', '19 10 015 000 identifier', '19 11 000 000 receptacle identification number', '19 11 001 000 receptacle identification number']\n"
     ]
    }
   ],
   "source": [
    "print(data.keys())\n",
    "clarification_elements = []\n",
    "\n",
    "for i in range(data.shape[0]):\n",
    "    element = data.at[i, 'Data element/class name ']\n",
    "    if element != element:\n",
    "        element = data.at[i, 'Data sub-element/sub-class name']\n",
    "    clarification_elements.append(data.at[i, 'DE No. (Ref ID6)'] + \" \" + element.lower())\n",
    "\n",
    "    \n",
    "print(clarification_elements)\n"
   ]
  },
  {
   "cell_type": "markdown",
   "metadata": {},
   "source": [
    "3. Extract EUCDM name annotations from XSD file\n",
    "(NOTE: this assumes all elements are correctly annotated, which for G4 they are because I manually edited them)"
   ]
  },
  {
   "cell_type": "code",
   "execution_count": 14,
   "metadata": {},
   "outputs": [
    {
     "name": "stdout",
     "output_type": "stream",
     "text": [
      "[('LRN', 'EUCDM 6.1', '12 09 001 000'), ('Specific circumstance indicator', 'EUCDM 6.1', '11 04 001 000'), ('Representative', 'EUCDM 6.1', '13 06 000 000'), ('Name', 'EUCDM 6.1', '13 06 016 000'), ('Identification number', 'EUCDM 6.1', '13 06 017 000'), ('Address', 'EUCDM 6.1', '13 03 018 000'), ('City', 'EUCDM 6.1', '13 03 018 022'), ('Country', 'EUCDM 6.1', '13 03 018 020'), ('Street additional line', 'EUCDM 6.1', '13 06 018 024'), ('Postcode', 'EUCDM 6.1', '13 06 018 021'), ('Street', 'EUCDM 6.1', '13 06 018 023'), ('Number', 'EUCDM 6.1', '13 06 018 025'), ('P.O. box', 'EUCDM 6.1', '13 06 018 026'), ('Sub-division', 'EUCDM 6.1', '13 06 018 027'), ('Communication', 'EUCDM 6.1', '13 06 029 000'), ('Identifier', 'EUCDM 6.1', '13 06 029 015'), ('Type', 'EUCDM 6.1', '13 06 029 002'), ('Status', 'EUCDM 6.1', '13 06 030 000'), ('Declarant', 'EUCDM 6.1', '13 05 000 000'), ('Name', 'EUCDM 6.1', '13 05 016 000'), ('Identification number', 'EUCDM 6.1', '13 05 017 000'), ('Address', 'EUCDM 6.1', '13 03 018 000'), ('City', 'EUCDM 6.1', '13 05 018 022'), ('Country', 'EUCDM 6.1', '13 05 018 020'), ('Street additional line', 'EUCDM 6.1', '13 05 018 024'), ('Postcode', 'EUCDM 6.1', '13 05 018 021'), ('Street', 'EUCDM 6.1', '13 05 018 023'), ('Number', 'EUCDM 6.1', '13 05 018 025'), ('P.O. box', 'EUCDM 6.1', '13 05 018 026'), ('Sub-division', 'EUCDM 6.1', '13 05 018 027'), ('Communication', 'EUCDM 6.1', '13 05 029 000'), ('Identifier', 'EUCDM 6.1', '13 05 029 015'), ('Type', 'EUCDM 6.1', '13 05 029 002'), ('Total gross mass', 'EUCDM 6.1', '18 03 001 000'), ('Receptacle identification number', 'EUCDM 6.1', '19 11 001 000'), ('Estimated date and time of arrival at the port of unloading', 'EUCDM 6.1', '15 04 001 000'), ('Additional Information', 'EUCDM 6.1', '12 02 000 000'), ('Code', 'EUCDM 6.1', '12 02 008 000'), ('Text', 'EUCDM 6.1', '12 02 009 000'), ('Additional reference', 'EUCDM 6.1', '12 04 000 000'), ('Reference Number', 'EUCDM 6.1', '12 04 001 000'), ('Type', 'EUCDM 6.1', '12 04 002 000'), ('Additional supply chain actor', 'EUCDM 6.1', '13 14 000 000'), ('Identification Number', 'EUCDM 6.1', '13 14 017 000'), ('Role', 'EUCDM 6.1', '13 14 031 000'), ('Arrival transport means', 'EUCDM 6.1', '19 06 000 000'), ('Identification number', 'EUCDM 6.1', '19 06 017 000'), ('Type of identification', 'EUCDM 6.1', '19 06 061 000'), ('Consignee', 'EUCDM 6.1', '13 03 000 000'), ('Name', 'EUCDM 6.1', '13 03 016 000'), ('Identification number', 'EUCDM 6.1', '13 03 017 000'), ('Address', 'EUCDM 6.1', '13 03 018 000'), ('City', 'EUCDM 6.1', '13 03 018 022'), ('Country', 'EUCDM 6.1', '13 03 018 020'), ('Street additional line', 'EUCDM 6.1', '13 03 018 024'), ('Postcode', 'EUCDM 6.1', '13 03 018 021'), ('Street', 'EUCDM 6.1', '13 03 018 023'), ('Number', 'EUCDM 6.1', '13 03 018 025'), ('P.O. box', 'EUCDM 6.1', '13 03 018 026'), ('Sub-division', 'EUCDM 6.1', '13 03 018 027'), ('Identifier', 'EUCDM 6.1', '13 03 029 015'), ('Type', 'EUCDM 6.1', '13 03 029 002'), ('Type of person', 'EUCDM 6.1', '13 03 028 000'), ('Goods item number', 'EUCDM 6.1', '11 03 000 000'), ('Goods item number', 'EUCDM 6.1', '11 03 001 000'), ('Packaging', 'EUCDM 6.1', '18 06 000 000'), ('Shipping marks', 'EUCDM 6.1', '18 06 054 000'), ('Number of Packages', 'EUCDM 6.1', '18 06 004 000'), ('Type of Packages', 'EUCDM 6.1', '18 06 003 000'), ('Additional Information', 'EUCDM 6.1', '12 02 000 000'), ('Code', 'EUCDM 6.1', '12 02 008 000'), ('Text', 'EUCDM 6.1', '12 02 009 000'), ('Additional supply chain actor', 'EUCDM 6.1', '13 14 000 000'), ('Identification Number', 'EUCDM 6.1', '13 14 017 000'), ('Role', 'EUCDM 6.1', '13 14 031 000'), ('Commodity Code', 'EUCDM 6.1', '18 09 000 000'), ('Description of Goods', 'EUCDM 6.1', '18 05 000 000'), ('Description of Goods', 'EUCDM 6.1', '18 05 001 000'), ('CUS Code', 'EUCDM 6.1', '18 08 000 000'), ('CUS Code', 'EUCDM 6.1', '18 08 001 000'), ('Harmonized System Sub-heading Code', 'EUCDM 6.1', '18 09 056 000'), ('Combined nomenclature code', 'EUCDM 6.1', '18 09 057 000'), ('CUS Code', 'EUCDM 6.1', '18 08 001 000'), ('Combined nomenclature code', 'EUCDM 6.1', '18 09 057 000'), ('Gross Mass', 'EUCDM 6.1', '18 04 000 000'), ('Gross mass', 'EUCDM 6.1', '18 04 001 000'), ('Previous document', 'EUCDM 6.1', '12 01 000 000'), ('Goods item identifier', 'EUCDM 6.1', '12 01 007 000'), ('Reference Number', 'EUCDM 6.1', '12 01 001 000'), ('Type', 'EUCDM 6.1', '12 01 002 000'), ('Supporting Document', 'EUCDM 6.1', '12 03 000 000'), ('Reference Number', 'EUCDM 6.1', '12 03 001 000'), ('Type', 'EUCDM 6.1', '12 03 002 000'), ('Transport Equipment', 'EUCDM 6.1', '19 07 000 000'), ('Container packed status', 'EUCDM 6.1', '19 07 065 000'), ('Container Identification Number', 'EUCDM 6.1', '19 07 063 000'), ('Number of seals', 'EUCDM 6.1', '19 10 068 000'), ('Seal', 'EUCDM 6.1', '19 10 000 000'), ('Identifier', 'EUCDM 6.1', '19 10 015 000'), ('Consignor', 'EUCDM 6.1', '13 02 000 000'), ('Name', 'EUCDM 6.1', '13 02 016 000'), ('Identification number', 'EUCDM 6.1', '13 02 017 000'), ('Address', 'EUCDM 6.1', '13 02 018 000'), ('City', 'EUCDM 6.1', '13 02 018 022'), ('Country', 'EUCDM 6.1', '13 02 018 020'), ('Street additional line', 'EUCDM 6.1', '13 02 018 024'), ('Postcode', 'EUCDM 6.1', '13 02 018 021'), ('Street', 'EUCDM 6.1', '13 02 018 023'), ('Number', 'EUCDM 6.1', '13 02 018 025'), ('P.O. box', 'EUCDM 6.1', '13 02 018 026'), ('Sub-division', 'EUCDM 6.1', '13 02 018 027'), ('Communication', 'EUCDM 6.1', '13 02 029 000'), ('Identifier', 'EUCDM 6.1', '13 02 029 015'), ('Type', 'EUCDM 6.1', '13 02 029 002'), ('Type of person', 'EUCDM 6.1', '13 02 028 000'), ('Location of Goods', 'EUCDM 6.1', '16 15 000 000'), ('UN/LOCODE', 'EUCDM 6.1', '16 15 036 000'), ('Type of Location', 'EUCDM 6.1', '16 15 045 000'), ('Additional Identifier', 'EUCDM 6.1', '16 15 053 000'), ('Latitude', 'EUCDM 6.1', '16 15 048 049'), ('Longitude', 'EUCDM 6.1', '16 15 048 050'), ('Address', 'EUCDM 6.1', '16 15 018 000'), ('City', 'EUCDM 6.1', '16 15 018 022'), ('Country', 'EUCDM 6.1', '16 15 018 020'), ('Country', 'EUCDM 6.1', '16 15 081 020'), ('Street and number', 'EUCDM 6.1', '16 15 018 019'), ('Postcode', 'EUCDM 6.1', '16 15 018 021'), ('House Number', 'EUCDM 6.1', '16 15 081 025'), ('Qualifier of Identification', 'EUCDM 6.1', '16 15 046 000'), ('Authorisation Number', 'EUCDM 6.1', '16 15 052 000'), ('Customs office', 'EUCDM 6.1', '16 15 047 000'), ('Reference number', 'EUCDM 6.1', '16 15 047 001'), ('Economic Operator', 'EUCDM 6.1', '16 15 051 000'), ('Identification Number', 'EUCDM 6.1', '16 15 051 017'), ('Total gross mass', 'EUCDM 6.1', '18 03 001 000'), ('Additional reference', 'EUCDM 6.1', '12 04 000 000'), ('Type', 'EUCDM 6.1', '12 04 002 000'), ('Additional supply chain actor', 'EUCDM 6.1', '13 14 000 000'), ('Identification Number', 'EUCDM 6.1', '13 14 017 000'), ('Role', 'EUCDM 6.1', '13 14 031 000'), ('Consignee', 'EUCDM 6.1', '13 03 000 000'), ('Name', 'EUCDM 6.1', '13 03 016 000'), ('Identification Number', 'EUCDM 6.1', '13 03 017 000'), ('Address', 'EUCDM 6.1', '13 03 018 000'), ('City', 'EUCDM 6.1', '13 03 018 022'), ('Country', 'EUCDM 6.1', '13 03 018 020'), ('Street additional line', 'EUCDM 6.1', '13 03 018 024'), ('Postcode', 'EUCDM 6.1', '13 03 018 021'), ('Street', 'EUCDM 6.1', '13 03 018 023'), ('Number', 'EUCDM 6.1', '13 03 018 025'), ('P.O. box', 'EUCDM 6.1', '13 03 018 026'), ('Sub-division', 'EUCDM 6.1', '13 03 018 027'), ('Identifier', 'EUCDM 6.1', '13 03 029 015'), ('Type', 'EUCDM 6.1', '13 03 029 002'), ('Type of person', 'EUCDM 6.1', '13 03 028 000'), ('Goods item number', 'EUCDM 6.1', '11 03 000 000'), ('Goods item number', 'EUCDM 6.1', '11 03 001 000'), ('Packaging', 'EUCDM 6.1', '18 06 000 000'), ('Shipping marks', 'EUCDM 6.1', '18 06 054 000'), ('Number of Packages', 'EUCDM 6.1', '18 06 004 000'), ('Type of Packages', 'EUCDM 6.1', '18 06 003 000'), ('Additional Information', 'EUCDM 6.1', '12 02 000 000'), ('Code', 'EUCDM 6.1', '12 02 008 000'), ('Text', 'EUCDM 6.1', '12 02 009 000'), ('Additional reference', 'EUCDM 6.1', '12 04 000 000'), ('Reference Number', 'EUCDM 6.1', '12 04 001 000'), ('Type', 'EUCDM 6.1', '12 04 002 000'), ('Additional supply chain actor', 'EUCDM 6.1', '13 14 000 000'), ('Identification Number', 'EUCDM 6.1', '13 14 017 000'), ('Role', 'EUCDM 6.1', '13 14 031 000'), ('Commodity Code', 'EUCDM 6.1', '18 09 000 000'), ('Description of Goods', 'EUCDM 6.1', '18 05 000 000'), ('Description of Goods', 'EUCDM 6.1', '18 05 001 000'), ('CUS Code', 'EUCDM 6.1', '18 08 000 000'), ('Gross Mass', 'EUCDM 6.1', '18 04 000 000'), ('Previous document', 'EUCDM 6.1', '12 01 000 000'), ('Goods item identifier', 'EUCDM 6.1', '12 01 007 000'), ('Reference Number', 'EUCDM 6.1', '12 01 001 000'), ('Type', 'EUCDM 6.1', '12 01 002 000'), ('Supporting Document', 'EUCDM 6.1', '12 03 000 000'), ('Reference Number', 'EUCDM 6.1', '12 03 001 000'), ('Type', 'EUCDM 6.1', '12 03 002 000'), ('Transport Equipment', 'EUCDM 6.1', '19 07 000 000'), ('Container packed status', 'EUCDM 6.1', '19 07 065 000'), ('Container Identification Number', 'EUCDM 6.1', '19 07 063 000'), ('Number of seals', 'EUCDM 6.1', '19 10 068 000'), ('Seal', 'EUCDM 6.1', '19 10 000 000'), ('Identifier', 'EUCDM 6.1', '19 10 015 000'), ('Consignor', 'EUCDM 6.1', '13 02 000 000'), ('Name', 'EUCDM 6.1', '13 02 016 000'), ('Identification number', 'EUCDM 6.1', '13 02 017 000'), ('Address', 'EUCDM 6.1', '13 02 018 000'), ('City', 'EUCDM 6.1', '13 02 018 022'), ('Country', 'EUCDM 6.1', '13 02 018 020'), ('Street additional line', 'EUCDM 6.1', '13 02 018 024'), ('Postcode', 'EUCDM 6.1', '13 02 018 021'), ('Street', 'EUCDM 6.1', '13 02 018 023'), ('Number', 'EUCDM 6.1', '13 02 018 025'), ('P.O. box', 'EUCDM 6.1', '13 02 018 026'), ('Sub-division', 'EUCDM 6.1', '13 02 018 027'), ('Communication', 'EUCDM 6.1', '13 02 029 000'), ('Identifier', 'EUCDM 6.1', '13 02 029 015'), ('Type', 'EUCDM 6.1', '13 02 029 002'), ('Type of person', 'EUCDM 6.1', '13 02 028 000'), ('Notify party', 'EUCDM 6.1', '13 13 000 000'), ('Name', 'EUCDM 6.1', '13 13 016 000'), ('Identification number', 'EUCDM 6.1', '13 13 017 000'), ('Address', 'EUCDM 6.1', '13 13 018 000'), ('City', 'EUCDM 6.1', '13 13 018 022'), ('Country', 'EUCDM 6.1', '13 13 018 020'), ('Street additional line', 'EUCDM 6.1', '13 13 018 024'), ('Postcode', 'EUCDM 6.1', '13 13 018 021'), ('Street', 'EUCDM 6.1', '13 13 018 023'), ('Number', 'EUCDM 6.1', '13 13 018 025'), ('P.O. box', 'EUCDM 6.1', '13 13 018 026'), ('Sub-division', 'EUCDM 6.1', '13 13 018 027'), ('Communication', 'EUCDM 6.1', '13 13 029 000'), ('Identifier', 'EUCDM 6.1', '13 13 029 015'), ('Type', 'EUCDM 6.1', '13 13 029 002'), ('Type of person', 'EUCDM 6.1', '13 13 028 000'), ('Previous document', 'EUCDM 6.1', '12 01 000 000'), ('Goods item identifier', 'EUCDM 6.1', '12 01 007 000'), ('Reference Number', 'EUCDM 6.1', '12 01 001 000'), ('Type', 'EUCDM 6.1', '12 01 002 000'), ('Supporting Document', 'EUCDM 6.1', '12 03 000 000'), ('Reference Number', 'EUCDM 6.1', '12 03 001 000'), ('Type', 'EUCDM 6.1', '12 03 002 000'), ('Transport document', 'EUCDM 6.1', '12 05 000 000'), ('Reference number', 'EUCDM 6.1', '12 05 001 000'), ('Type', 'EUCDM 6.1', '12 05 002 000'), ('Transport Equipment', 'EUCDM 6.1', '19 07 000 000'), ('Container packed status', 'EUCDM 6.1', '19 07 065 000'), ('Container identification number', 'EUCDM 6.1', '19 07 063 000'), ('Number of seals', 'EUCDM 6.1', '19 10 068 000'), ('Seal', 'EUCDM 6.1', '19 10 000 000'), ('Identifier', 'EUCDM 6.1', '19 10 015 000'), ('Reference number/UCR', 'EUCDM 6.1', '12 08 000 000'), ('Reference number/UCR', 'EUCDM 6.1', '12 08 001 000'), ('Place of loading', 'EUCDM 6.1', '16 13 000 000'), ('Location', 'EUCDM 6.1', '16 13 037 000'), ('UN/LOCODE', 'EUCDM 6.1', '16 13 036 000'), ('Country', 'EUCDM 6.1', '16 13 020 000'), ('Notify party', 'EUCDM 6.1', '13 13 000 000'), ('Name', 'EUCDM 6.1', '13 13 016 000'), ('Identification number', 'EUCDM 6.1', '13 13 017 000'), ('Address', 'EUCDM 6.1', '13 13 018 000'), ('City', 'EUCDM 6.1', '13 13 018 022'), ('Country', 'EUCDM 6.1', '13 13 018 020'), ('Street additional line', 'EUCDM 6.1', '13 13 018 024'), ('Postcode', 'EUCDM 6.1', '13 13 018 021'), ('Street', 'EUCDM 6.1', '13 13 018 023'), ('Number', 'EUCDM 6.1', '13 13 018 025'), ('P.O. box', 'EUCDM 6.1', '13 13 018 026'), ('Sub-division', 'EUCDM 6.1', '13 13 018 027'), ('Communication', 'EUCDM 6.1', '13 13 029 000'), ('Identifier', 'EUCDM 6.1', '13 13 029 015'), ('Type', 'EUCDM 6.1', '13 13 029 002'), ('Type of person', 'EUCDM 6.1', '13 13 028 000'), ('Previous document', 'EUCDM 6.1', '12 01 000 000'), ('Goods item identifier', 'EUCDM 6.1', '12 01 007 000'), ('Reference Number', 'EUCDM 6.1', '12 01 001 000'), ('Type', 'EUCDM 6.1', '12 01 002 000'), ('Supporting Document', 'EUCDM 6.1', '12 03 000 000'), ('Reference Number', 'EUCDM 6.1', '12 03 001 000'), ('Type', 'EUCDM 6.1', '12 03 002 000'), ('Transport document', 'EUCDM 6.1', '12 05 000 000'), ('Reference number', 'EUCDM 6.1', '12 05 001 000'), ('Type', 'EUCDM 6.1', '12 05 002 000'), ('Transport Equipment', 'EUCDM 6.1', '19 07 000 000'), ('Container packed status', 'EUCDM 6.1', '19 07 065 000'), ('Container identification number', 'EUCDM 6.1', '19 07 063 000'), ('Number of seals', 'EUCDM 6.1', '19 10 068 000'), ('Seal', 'EUCDM 6.1', '19 10 000 000'), ('Identifier', 'EUCDM 6.1', '19 10 015 000'), ('Place of unloading', 'EUCDM 6.1', '16 14 000 000'), ('Location', 'EUCDM 6.1', '16 14 037 000'), ('UN/LOCODE', 'EUCDM 6.1', '16 14 036 000'), ('Country', 'EUCDM 6.1', '16 14 020 000'), ('Reference number/UCR', 'EUCDM 6.1', '12 08 000 000'), ('Reference number/UCR', 'EUCDM 6.1', '12 08 001 000'), ('Warehouse', 'EUCDM 6.1', '12 11 000 000'), ('Name', 'EUCDM 6.1', '13 03 016 000'), ('Identifier', 'EUCDM 6.1', '12 11 015 000')]\n",
      "['12 09 001 000 lrn', '11 04 001 000 specific circumstance indicator', '13 06 000 000 representative', '13 06 016 000 name', '13 06 017 000 identification number', '13 03 018 000 address', '13 03 018 022 city', '13 03 018 020 country', '13 06 018 024 street additional line', '13 06 018 021 postcode', '13 06 018 023 street', '13 06 018 025 number', '13 06 018 026 p.o. box', '13 06 018 027 sub-division', '13 06 029 000 communication', '13 06 029 015 identifier', '13 06 029 002 type', '13 06 030 000 status', '13 05 000 000 declarant', '13 05 016 000 name', '13 05 017 000 identification number', '13 03 018 000 address', '13 05 018 022 city', '13 05 018 020 country', '13 05 018 024 street additional line', '13 05 018 021 postcode', '13 05 018 023 street', '13 05 018 025 number', '13 05 018 026 p.o. box', '13 05 018 027 sub-division', '13 05 029 000 communication', '13 05 029 015 identifier', '13 05 029 002 type', '18 03 001 000 total gross mass', '19 11 001 000 receptacle identification number', '15 04 001 000 estimated date and time of arrival at the port of unloading', '12 02 000 000 additional information', '12 02 008 000 code', '12 02 009 000 text', '12 04 000 000 additional reference', '12 04 001 000 reference number', '12 04 002 000 type', '13 14 000 000 additional supply chain actor', '13 14 017 000 identification number', '13 14 031 000 role', '19 06 000 000 arrival transport means', '19 06 017 000 identification number', '19 06 061 000 type of identification', '13 03 000 000 consignee', '13 03 016 000 name', '13 03 017 000 identification number', '13 03 018 000 address', '13 03 018 022 city', '13 03 018 020 country', '13 03 018 024 street additional line', '13 03 018 021 postcode', '13 03 018 023 street', '13 03 018 025 number', '13 03 018 026 p.o. box', '13 03 018 027 sub-division', '13 03 029 015 identifier', '13 03 029 002 type', '13 03 028 000 type of person', '11 03 000 000 goods item number', '11 03 001 000 goods item number', '18 06 000 000 packaging', '18 06 054 000 shipping marks', '18 06 004 000 number of packages', '18 06 003 000 type of packages', '12 02 000 000 additional information', '12 02 008 000 code', '12 02 009 000 text', '13 14 000 000 additional supply chain actor', '13 14 017 000 identification number', '13 14 031 000 role', '18 09 000 000 commodity code', '18 05 000 000 description of goods', '18 05 001 000 description of goods', '18 08 000 000 cus code', '18 08 001 000 cus code', '18 09 056 000 harmonized system sub-heading code', '18 09 057 000 combined nomenclature code', '18 08 001 000 cus code', '18 09 057 000 combined nomenclature code', '18 04 000 000 gross mass', '18 04 001 000 gross mass', '12 01 000 000 previous document', '12 01 007 000 goods item identifier', '12 01 001 000 reference number', '12 01 002 000 type', '12 03 000 000 supporting document', '12 03 001 000 reference number', '12 03 002 000 type', '19 07 000 000 transport equipment', '19 07 065 000 container packed status', '19 07 063 000 container identification number', '19 10 068 000 number of seals', '19 10 000 000 seal', '19 10 015 000 identifier', '13 02 000 000 consignor', '13 02 016 000 name', '13 02 017 000 identification number', '13 02 018 000 address', '13 02 018 022 city', '13 02 018 020 country', '13 02 018 024 street additional line', '13 02 018 021 postcode', '13 02 018 023 street', '13 02 018 025 number', '13 02 018 026 p.o. box', '13 02 018 027 sub-division', '13 02 029 000 communication', '13 02 029 015 identifier', '13 02 029 002 type', '13 02 028 000 type of person', '16 15 000 000 location of goods', '16 15 036 000 un/locode', '16 15 045 000 type of location', '16 15 053 000 additional identifier', '16 15 048 049 latitude', '16 15 048 050 longitude', '16 15 018 000 address', '16 15 018 022 city', '16 15 018 020 country', '16 15 081 020 country', '16 15 018 019 street and number', '16 15 018 021 postcode', '16 15 081 025 house number', '16 15 046 000 qualifier of identification', '16 15 052 000 authorisation number', '16 15 047 000 customs office', '16 15 047 001 reference number', '16 15 051 000 economic operator', '16 15 051 017 identification number', '18 03 001 000 total gross mass', '12 04 000 000 additional reference', '12 04 002 000 type', '13 14 000 000 additional supply chain actor', '13 14 017 000 identification number', '13 14 031 000 role', '13 03 000 000 consignee', '13 03 016 000 name', '13 03 017 000 identification number', '13 03 018 000 address', '13 03 018 022 city', '13 03 018 020 country', '13 03 018 024 street additional line', '13 03 018 021 postcode', '13 03 018 023 street', '13 03 018 025 number', '13 03 018 026 p.o. box', '13 03 018 027 sub-division', '13 03 029 015 identifier', '13 03 029 002 type', '13 03 028 000 type of person', '11 03 000 000 goods item number', '11 03 001 000 goods item number', '18 06 000 000 packaging', '18 06 054 000 shipping marks', '18 06 004 000 number of packages', '18 06 003 000 type of packages', '12 02 000 000 additional information', '12 02 008 000 code', '12 02 009 000 text', '12 04 000 000 additional reference', '12 04 001 000 reference number', '12 04 002 000 type', '13 14 000 000 additional supply chain actor', '13 14 017 000 identification number', '13 14 031 000 role', '18 09 000 000 commodity code', '18 05 000 000 description of goods', '18 05 001 000 description of goods', '18 08 000 000 cus code', '18 04 000 000 gross mass', '12 01 000 000 previous document', '12 01 007 000 goods item identifier', '12 01 001 000 reference number', '12 01 002 000 type', '12 03 000 000 supporting document', '12 03 001 000 reference number', '12 03 002 000 type', '19 07 000 000 transport equipment', '19 07 065 000 container packed status', '19 07 063 000 container identification number', '19 10 068 000 number of seals', '19 10 000 000 seal', '19 10 015 000 identifier', '13 02 000 000 consignor', '13 02 016 000 name', '13 02 017 000 identification number', '13 02 018 000 address', '13 02 018 022 city', '13 02 018 020 country', '13 02 018 024 street additional line', '13 02 018 021 postcode', '13 02 018 023 street', '13 02 018 025 number', '13 02 018 026 p.o. box', '13 02 018 027 sub-division', '13 02 029 000 communication', '13 02 029 015 identifier', '13 02 029 002 type', '13 02 028 000 type of person', '13 13 000 000 notify party', '13 13 016 000 name', '13 13 017 000 identification number', '13 13 018 000 address', '13 13 018 022 city', '13 13 018 020 country', '13 13 018 024 street additional line', '13 13 018 021 postcode', '13 13 018 023 street', '13 13 018 025 number', '13 13 018 026 p.o. box', '13 13 018 027 sub-division', '13 13 029 000 communication', '13 13 029 015 identifier', '13 13 029 002 type', '13 13 028 000 type of person', '12 01 000 000 previous document', '12 01 007 000 goods item identifier', '12 01 001 000 reference number', '12 01 002 000 type', '12 03 000 000 supporting document', '12 03 001 000 reference number', '12 03 002 000 type', '12 05 000 000 transport document', '12 05 001 000 reference number', '12 05 002 000 type', '19 07 000 000 transport equipment', '19 07 065 000 container packed status', '19 07 063 000 container identification number', '19 10 068 000 number of seals', '19 10 000 000 seal', '19 10 015 000 identifier', '12 08 000 000 reference number/ucr', '12 08 001 000 reference number/ucr', '16 13 000 000 place of loading', '16 13 037 000 location', '16 13 036 000 un/locode', '16 13 020 000 country', '13 13 000 000 notify party', '13 13 016 000 name', '13 13 017 000 identification number', '13 13 018 000 address', '13 13 018 022 city', '13 13 018 020 country', '13 13 018 024 street additional line', '13 13 018 021 postcode', '13 13 018 023 street', '13 13 018 025 number', '13 13 018 026 p.o. box', '13 13 018 027 sub-division', '13 13 029 000 communication', '13 13 029 015 identifier', '13 13 029 002 type', '13 13 028 000 type of person', '12 01 000 000 previous document', '12 01 007 000 goods item identifier', '12 01 001 000 reference number', '12 01 002 000 type', '12 03 000 000 supporting document', '12 03 001 000 reference number', '12 03 002 000 type', '12 05 000 000 transport document', '12 05 001 000 reference number', '12 05 002 000 type', '19 07 000 000 transport equipment', '19 07 065 000 container packed status', '19 07 063 000 container identification number', '19 10 068 000 number of seals', '19 10 000 000 seal', '19 10 015 000 identifier', '16 14 000 000 place of unloading', '16 14 037 000 location', '16 14 036 000 un/locode', '16 14 020 000 country', '12 08 000 000 reference number/ucr', '12 08 001 000 reference number/ucr', '12 11 000 000 warehouse', '13 03 016 000 name', '12 11 015 000 identifier']\n"
     ]
    }
   ],
   "source": [
    "\n",
    "clarifications_filename = './G4_DMS_v0.1.xsd'\n",
    "\n",
    "def extract_elements(text, search_by):\n",
    "    # Define the regex pattern\n",
    "    if search_by == 'Name':\n",
    "        pattern = r\"<EUCDMname>(.*?)</EUCDMname>\"\n",
    "    elif search_by == 'Number':\n",
    "        pattern = r\"<code>(.*?)</code>\"\n",
    "    elif search_by == 'Both':\n",
    "        pattern = (\n",
    "                r\"<EUCDMname>(.*?)</EUCDMname>\\s*\"\n",
    "                r\"<EUCDMversion>(.*?)</EUCDMversion>\\s*\"\n",
    "                r\"<code>(.*?)</code>\"\n",
    "            )\n",
    "\n",
    "\n",
    "    # Use re.findall to extract all occurrences\n",
    "    matches = re.findall(pattern, text)\n",
    "    # Return the matches\n",
    "    return matches\n",
    "\n",
    "text = open(clarifications_filename, 'r').read()\n",
    "# element_name_annotations = extract_elements(text, 'Name')\n",
    "# element_number_annotations = extract_elements(text, 'Number')\n",
    "# print(len(element_number_annotations), len(element_name_annotations))\n",
    "annotations = extract_elements(text, 'Both')\n",
    "print(annotations)\n",
    "#xxx\n",
    "\n",
    "\n",
    "#schema_annotations = {element_name_annotations[i]: element_number_annotations[i] for i in range(len(element_name_annotations))} \n",
    "#schema_annotations = {annotations[i][0]: annotations[i][2] for i in range(len(annotations))} \n",
    "\n",
    "schema_annotations = []\n",
    "for i in range(len(annotations)):\n",
    "    schema_annotations.append( annotations[i][2] + \" \" + annotations[i][0].lower()) \n",
    "\n",
    "print(schema_annotations)\n",
    "\n",
    "\n",
    "\n"
   ]
  },
  {
   "cell_type": "code",
   "execution_count": 16,
   "metadata": {},
   "outputs": [
    {
     "name": "stdout",
     "output_type": "stream",
     "text": [
      "The following elements from the clarifications excel sheet are missing from the XSD: \n",
      "11 04 000 000 specific circumstance indicator\n",
      "12 09 000 000 lrn\n",
      "12 11 002 000 type\n",
      "13 03 029 000 communication\n",
      "13 05 018 000 address\n",
      "13 06 018 000 address\n",
      "13 06 018 020 country\n",
      "13 06 018 022 city\n",
      "15 04 000 000 estimated date and time of arrival at the port of unloading\n",
      "16 15 048 000 gnss\n",
      "16 15 081 000 postcode address\n",
      "16 15 081 021 postcode\n",
      "17 10 000 000 supervising customs office\n",
      "17 10 001 000 reference number\n",
      "18 03 000 000 total gross mass\n",
      "19 11 000 000 receptacle identification number\n",
      "\n",
      "\n",
      "The following elements in the XSD are not present in the clarifications excel sheet: \n",
      "12 04 001 000 reference number\n",
      "12 04 001 000 reference number\n"
     ]
    }
   ],
   "source": [
    "#schema_annotations =  {k.lower(): v for k, v in schema_annotations.items()}\n",
    "print(\"The following elements from the clarifications excel sheet are missing from the XSD: \")\n",
    "for item in clarification_elements:\n",
    "    if item not in schema_annotations: #or val not in schema_annotations.values():\n",
    "        print(item)\n",
    "print(\"\\n\")\n",
    "\n",
    "print(\"The following elements in the XSD are not present in the clarifications excel sheet: \")\n",
    "for item in schema_annotations:\n",
    "    if item not in clarification_elements: #or val not in schema_annotations.values():\n",
    "        print(item)\n"
   ]
  }
 ],
 "metadata": {
  "kernelspec": {
   "display_name": "Python 3",
   "language": "python",
   "name": "python3"
  },
  "language_info": {
   "codemirror_mode": {
    "name": "ipython",
    "version": 3
   },
   "file_extension": ".py",
   "mimetype": "text/x-python",
   "name": "python",
   "nbconvert_exporter": "python",
   "pygments_lexer": "ipython3",
   "version": "3.11.7"
  }
 },
 "nbformat": 4,
 "nbformat_minor": 2
}
