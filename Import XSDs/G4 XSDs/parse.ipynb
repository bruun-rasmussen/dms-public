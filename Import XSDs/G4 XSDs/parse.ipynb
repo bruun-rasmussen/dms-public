{
 "cells": [
  {
   "cell_type": "markdown",
   "metadata": {},
   "source": [
    "1. Import libs and read excel (reading excel is slow)"
   ]
  },
  {
   "cell_type": "code",
   "execution_count": 1,
   "metadata": {},
   "outputs": [
    {
     "name": "stderr",
     "output_type": "stream",
     "text": [
      "C:\\Users\\ciar\\AppData\\Local\\Temp\\ipykernel_16260\\2590737069.py:3: DeprecationWarning: \n",
      "Pyarrow will become a required dependency of pandas in the next major release of pandas (pandas 3.0),\n",
      "(to allow more performant data types, such as the Arrow string type, and better interoperability with other libraries)\n",
      "but was not found to be installed on your system.\n",
      "If this would cause problems for you,\n",
      "please provide us feedback at https://github.com/pandas-dev/pandas/issues/54466\n",
      "        \n",
      "  import pandas as pd\n"
     ]
    }
   ],
   "source": [
    "from pprint import pprint\n",
    "import pandas as pd\n",
    "import re\n",
    "data = pd.read_excel('../../Clarifications/G4 - mandatory data elements 11.10.2023 (1) - Copy.xlsx')\n"
   ]
  },
  {
   "cell_type": "markdown",
   "metadata": {},
   "source": [
    "2. Extract elements and sub-element names from clarifications excel sheet"
   ]
  },
  {
   "cell_type": "code",
   "execution_count": 2,
   "metadata": {},
   "outputs": [
    {
     "name": "stdout",
     "output_type": "stream",
     "text": [
      "Index(['DE No. (Ref ID6)', 'Data element/class name ',\n",
      "       'Data sub-element/sub-class name', 'Ref ID5', 'G4',\n",
      "       'Should the data element (from column B) be filled out on the declaration? ',\n",
      "       'If the data element (from column B) is being declared on the declaration - which data sub-elements (from column C) should then ALWAYS also be filled out? ',\n",
      "       'Initial version', 'Comments'],\n",
      "      dtype='object')\n",
      "['Goods item number', 'Goods item number', 'Specific circumstance indicator', 'Specific circumstance indicator', 'Previous document', 'Reference number', 'Type', 'Goods item identifier', 'Additional information', 'Code', 'Text', 'Supporting document', 'Reference number', 'Type', 'Additional reference', 'Type', 'Transport document', 'Reference number', 'Type', 'Reference number/UCR', 'Reference number/UCR', 'LRN', 'LRN', 'Warehouse', 'Type', 'Identifier', 'Consignor', 'Name', 'Identification number', 'Type of person', 'Address', 'Street', 'Street additional line', 'Number', 'P.O. box', 'Sub-division', 'Country', 'Postcode', 'City', 'Communication', 'Identifier', 'Type', 'Consignee', 'Name', 'Identification number', 'Type of person', 'Address', 'Street', 'Street additional line', 'Number', 'P.O. box', 'Sub-division', 'Country', 'Postcode', 'City', 'Communication', 'Identifier', 'Type', 'Declarant', 'Name', 'Identification number', 'Address', 'Street', 'Street additional line', 'Number', 'P.O. box', 'Sub-division', 'Country', 'Postcode', 'City', 'Communication', 'Identifier', 'Type', 'Representative', 'Name', 'Identification number', 'Status', 'Address', 'Street', 'Street additional line', 'Number', 'P.O. box', 'Sub-division', 'Country', 'Postcode', 'City', 'Communication', 'Identifier', 'Type', 'Notify party', 'Name', 'Identification number', 'Type of person', 'Address', 'Street', 'Street additional line', 'Number', 'P.O. box', 'Sub-division', 'Country', 'Postcode', 'City', 'Communication', 'Identifier', 'Type', 'Additional supply chain actor', 'Role', 'Identification number', 'Estimated date and time of arrival at the port of unloading', 'Estimated date and time of arrival at the port of unloading', 'Place of loading', 'UN/LOCODE', 'Country', 'Location', 'Place of unloading', 'UN/LOCODE', 'Country', 'Location', 'Location of goods', 'Type of location', 'Qualifier of identification', 'UN/LOCODE', 'Authorisation number', 'Additional identifier', 'Customs office', 'Reference number', 'GNSS', 'Latitude', 'Longitude', 'Economic operator', 'Identification number', 'Address', 'Street and number', 'Postcode', 'City', 'Country', 'Postcode address', 'Postcode', 'House Number', 'Country', 'Supervising customs office', 'Reference number', 'Total gross mass', 'Total gross mass', 'Gross mass', 'Gross mass', 'Description of goods', 'Description of goods', 'Packaging', 'Type of packages', 'Number of packages', 'Shipping marks', 'CUS code', 'CUS code', 'Commodity code', 'Harmonized System sub-heading code', 'Combined nomenclature code', 'Arrival transport means', 'Type of identification', 'Identification number', 'Transport equipment', 'Container identification number', 'Container packed status', 'Seal', 'Number of seals', 'Identifier', 'Receptacle identification number', 'Receptacle identification number']\n"
     ]
    }
   ],
   "source": [
    "print(data.keys())\n",
    "clarification_elements = []\n",
    "for i in range(168):\n",
    "    element = data.at[i, 'Data element/class name ']\n",
    "    if element != element:\n",
    "        element = data.at[i, 'Data sub-element/sub-class name']\n",
    "    clarification_elements.append(element)\n",
    "    \n",
    "print(clarification_elements)\n"
   ]
  },
  {
   "cell_type": "markdown",
   "metadata": {},
   "source": [
    "3. Extract EUCDM name annotations from XSD file"
   ]
  },
  {
   "cell_type": "code",
   "execution_count": 17,
   "metadata": {},
   "outputs": [
    {
     "name": "stdout",
     "output_type": "stream",
     "text": [
      "['LRN', 'Specific circumstance indicator', 'Representative', 'Name', 'Identification number', 'Address', 'City', 'Country', 'Street additional line', 'Postcode', 'Street', 'Number', 'P.O. box', 'Sub-division', 'Communication', 'Identifier', 'Type', 'Status', 'Declarant', 'Name', 'Identification number', 'Address', 'City', 'Country', 'Street additional line', 'Postcode', 'Street', 'Number', 'P.O. box', 'Sub-division', 'Communication', 'Identifier', 'Type', 'Consignment', 'Total gross mass', 'Receptacle identification number', 'Estimated date and time of arrival at the port of unloading', 'Additional Information', 'Code', 'Text', 'Additional reference', 'Reference Number', 'Type', 'Additional supply chain actor', 'Identification Number', 'Role', 'Arrival transport means', 'Identification number', 'Type of identification', 'Consignee', 'Name', 'Identification number', 'Address', 'City', 'Country', 'Street additional line', 'Postcode', 'Street', 'Number', 'P.O. box', 'Sub-division', 'Identifier', 'Type', 'Type of person', 'Consignment Item', 'Goods item number', 'Goods item number', 'Packaging', 'Shipping marks', 'Number of Packages', 'Type of Packages', 'Additional Information', 'Code', 'Text', 'Additional supply chain actor', 'Identification Number', 'Role', 'Commodity Code', 'Description of Goods', 'Description of Goods', 'CUS Code', 'CUS Code', 'CUS Code', 'Gross Mass', 'Gross mass', 'Previous document', 'Goods item identifier', 'Reference Number', 'Type', 'Supporting Document', 'Reference Number', 'Type', 'Transport Equipment', 'Container packed status', 'Container Identification Number', 'Number of seals', 'Seal', 'Identifier', 'Consignor', 'Name', 'Identification number', 'Address', 'City', 'Country', 'Street additional line', 'Postcode', 'Street', 'Number', 'P.O. box', 'Sub-division', 'Communication', 'Identifier', 'Type', 'Type of person', 'Location of Goods', 'UN/LOCODE', 'Type of Location', 'Additional Identifier', 'Latitude', 'Longitude', 'Address', 'City', 'Country', 'Country', 'Street and number', 'Postcode', 'House Number', 'Qualifier of Identification', 'Authorisation Number', 'Customs office', 'Reference number', 'Economic Operator', 'Identification Number', 'Total gross mass', 'Additional reference', 'Type', 'Additional supply chain actor', 'Identification Number', 'Role', 'Consignee', 'Name', 'Identification Number', 'Address', 'City', 'Country', 'Street additional line', 'Postcode', 'Street', 'Number', 'P.O. box', 'Sub-division', 'Identifier', 'Type', 'Type of person', 'Consignment Item', 'Goods item number', 'Goods item number', 'Packaging', 'Shipping marks', 'Number of Packages', 'Type of Packages', 'Additional Information', 'Code', 'Text', 'Additional reference', 'Reference Number', 'Type', 'Additional supply chain actor', 'Identification Number', 'Role', 'Commodity Code', 'Description of Goods', 'Description of Goods', 'CUS Code', 'CUS Code', 'CUS Code', 'Gross Mass', 'Gross mass', 'Previous document', 'Goods item identifier', 'Reference Number', 'Type', 'Supporting Document', 'Reference Number', 'Type', 'Transport Equipment', 'Container packed status', 'Container Identification Number', 'Number of seals', 'Seal', 'Identifier', 'Consignor', 'Name', 'Identification number', 'Address', 'City', 'Country', 'Street additional line', 'Postcode', 'Street', 'Number', 'P.O. box', 'Sub-division', 'Communication', 'Identifier', 'Type', 'Type of person', 'Notify party', 'Name', 'Identification number', 'Address', 'City', 'Country', 'Street additional line', 'Postcode', 'Street', 'Number', 'P.O. box', 'Sub-division', 'Communication', 'Identifier', 'Type', 'Type of person', 'Previous document', 'Goods item identifier', 'Reference Number', 'Type', 'Supporting Document', 'Reference Number', 'Type', 'Transport document', 'Reference number', 'Type', 'Transport Equipment', 'Container packed status', 'Container identification number', 'Number of seals', 'Seal', 'Identifier', 'Reference number/UCR', 'Reference number/UCR', 'Place of loading', 'Location', 'UN/LOCODE', 'Country', 'Notify party', 'Name', 'Identification number', 'Address', 'City', 'Country', 'Street additional line', 'Postcode', 'Street', 'Number', 'P.O. box', 'Sub-division', 'Communication', 'Identifier', 'Type', 'Type of person', 'Previous document', 'Goods item identifier', 'Reference Number', 'Type', 'Supporting Document', 'Reference Number', 'Type', 'Transport document', 'Reference number', 'Type', 'Transport Equipment', 'Container packed status', 'Container identification number', 'Number of seals', 'Seal', 'Identifier', 'Place of unloading', 'Location', 'UN/LOCODE', 'Country', 'Reference number/UCR', 'Reference number/UCR', 'Warehouse', 'Name', 'Identifier']\n",
      "Yes\n"
     ]
    }
   ],
   "source": [
    "\n",
    "def extract_EUCDMnames(text):\n",
    "    # Define the regex pattern\n",
    "    pattern = r\"<EUCDMname>(.*?)</EUCDMname>\"\n",
    "\n",
    "    # Use re.findall to extract all occurrences\n",
    "    matches = re.findall(pattern, text)\n",
    "\n",
    "    # Return the matches\n",
    "    return matches\n",
    "\n",
    "# Example usage\n",
    "text = open('./G4_DMS_v0.1.xsd', 'r').read()\n",
    "schema_annotations = extract_EUCDMnames(text)\n",
    "print(schema_annotations)\n",
    "if 'Agent' not in schema_annotations:\n",
    "    print(\"Yes\")\n"
   ]
  },
  {
   "cell_type": "code",
   "execution_count": 18,
   "metadata": {},
   "outputs": [
    {
     "name": "stdout",
     "output_type": "stream",
     "text": [
      "GNSS\n",
      "Postcode address\n",
      "Supervising customs office\n",
      "Harmonized System sub-heading code\n",
      "Combined nomenclature code\n"
     ]
    }
   ],
   "source": [
    "for i, thing in enumerate(schema_annotations):\n",
    "    schema_annotations[i] = thing.lower()\n",
    "for key in clarification_elements:\n",
    "    if key.lower() not in schema_annotations:\n",
    "        print(key)"
   ]
  }
 ],
 "metadata": {
  "kernelspec": {
   "display_name": "Python 3",
   "language": "python",
   "name": "python3"
  },
  "language_info": {
   "codemirror_mode": {
    "name": "ipython",
    "version": 3
   },
   "file_extension": ".py",
   "mimetype": "text/x-python",
   "name": "python",
   "nbconvert_exporter": "python",
   "pygments_lexer": "ipython3",
   "version": "3.11.7"
  }
 },
 "nbformat": 4,
 "nbformat_minor": 2
}
